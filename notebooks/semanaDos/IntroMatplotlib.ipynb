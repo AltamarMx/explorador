{
 "cells": [
  {
   "attachments": {},
   "cell_type": "markdown",
   "id": "13aa583e",
   "metadata": {},
   "source": [
    "# Introducción a Matplotlib\n",
    "Bienvenidos a esta sección dedicada a explorar una de las herramientas más poderosas y versátiles en el arsenal de cualquier analista de datos: Matplotlib. En este viaje, nos sumergiremos en el fascinante mundo de la visualización de datos en Python, donde Matplotlib se erige como el campeón indiscutible.\n",
    "\n",
    "Matplotlib, una biblioteca robusta y altamente flexible, ideal para   descubrir patrones, tendencias y relaciones  dentro de nuestros conjuntos de datos. Con su amplio conjunto de funciones y capacidades, Matplotlib nos permite convertir números crudos en imágenes claras  para transmitir ideas.\n",
    "\n",
    "Exploraremos algunas maneras  de Matplotlib, desde su capacidad para crear gráficos estáticos hasta sus características avanzadas para generar visualizaciones dinámicas e interactivas. Descubriremos cómo esta herramienta puede convertir datos crudos en obras de arte informativas, desde simples histogramas hasta complejos mapas de calor.\n",
    "\n",
    "Una de las características más impresionantes de Matplotlib es su capacidad de personalización sin límites. Desde la elección de colores hasta la disposición de anotaciones, cada aspecto de una visualización puede ser moldeado a nuestro gusto.\n",
    "\n",
    "Matplotlib se integra perfectamente con otras bibliotecas de Python, como Pandas, simplificando el proceso de visualización y análisis de datos. Veremos cómo podemos pasar fácilmente DataFrames y Series a Matplotlib, reduciendo la complejidad y la cantidad de código necesarios para generar visualizaciones.\n",
    "\n"
   ]
  },
  {
   "attachments": {},
   "cell_type": "markdown",
   "id": "8813e5c2",
   "metadata": {},
   "source": []
  },
  {
   "attachments": {},
   "cell_type": "markdown",
   "id": "a8975f86",
   "metadata": {},
   "source": [
    "Pero primero lo primero: se dará la serie de comandos necesarios para instalar por primera vez esta librería:"
   ]
  },
  {
   "cell_type": "code",
   "execution_count": null,
   "id": "b7b24f92",
   "metadata": {},
   "outputs": [],
   "source": [
    "import matplotlib as mpl"
   ]
  },
  {
   "cell_type": "code",
   "execution_count": null,
   "id": "e2dcca87",
   "metadata": {},
   "outputs": [
    {
     "data": {
      "text/plain": [
       "'3.7.1'"
      ]
     },
     "execution_count": null,
     "metadata": {},
     "output_type": "execute_result"
    }
   ],
   "source": [
    "mpl.__version__"
   ]
  },
  {
   "cell_type": "code",
   "execution_count": null,
   "id": "feaea51b",
   "metadata": {},
   "outputs": [
    {
     "name": "stdout",
     "output_type": "stream",
     "text": [
      "\u001b[33mWARNING: The directory '/Users/gbv/Library/Caches/pip' or its parent directory is not owned or is not writable by the current user. The cache has been disabled. Check the permissions and owner of that directory. If executing pip with sudo, you should use sudo's -H flag.\u001b[0m\u001b[33m\n",
      "\u001b[0mRequirement already satisfied: matplotlib in /usr/local/lib/python3.10/site-packages (3.7.1)\n",
      "Requirement already satisfied: contourpy>=1.0.1 in /usr/local/lib/python3.10/site-packages (from matplotlib) (1.1.0)\n",
      "Requirement already satisfied: cycler>=0.10 in /usr/local/lib/python3.10/site-packages (from matplotlib) (0.11.0)\n",
      "Requirement already satisfied: fonttools>=4.22.0 in /usr/local/lib/python3.10/site-packages (from matplotlib) (4.40.0)\n",
      "Requirement already satisfied: kiwisolver>=1.0.1 in /usr/local/lib/python3.10/site-packages (from matplotlib) (1.4.4)\n",
      "Requirement already satisfied: numpy>=1.20 in /usr/local/lib/python3.10/site-packages (from matplotlib) (1.24.2)\n",
      "Requirement already satisfied: packaging>=20.0 in /usr/local/lib/python3.10/site-packages (from matplotlib) (23.0)\n",
      "Requirement already satisfied: pillow>=6.2.0 in /usr/local/lib/python3.10/site-packages (from matplotlib) (9.5.0)\n",
      "Requirement already satisfied: pyparsing>=2.3.1 in /usr/local/lib/python3.10/site-packages (from matplotlib) (3.1.0)\n",
      "Requirement already satisfied: python-dateutil>=2.7 in /Users/gbv/Library/Python/3.10/lib/python/site-packages (from matplotlib) (2.8.2)\n",
      "Requirement already satisfied: six>=1.5 in /usr/local/lib/python3.10/site-packages (from python-dateutil>=2.7->matplotlib) (1.16.0)\n",
      "Note: you may need to restart the kernel to use updated packages.\n"
     ]
    }
   ],
   "source": [
    "pip install matplotlib"
   ]
  },
  {
   "cell_type": "code",
   "execution_count": null,
   "id": "c0404449",
   "metadata": {},
   "outputs": [],
   "source": [
    "pip install matplotlib --upgrade"
   ]
  },
  {
   "cell_type": "code",
   "execution_count": null,
   "id": "8151816d",
   "metadata": {},
   "outputs": [],
   "source": [
    "pip install numpy #se usa en muchos de los ejemplos para crear datos y hacer figuras"
   ]
  },
  {
   "attachments": {},
   "cell_type": "markdown",
   "id": "a2f62214",
   "metadata": {},
   "source": [
    "[matplotlib](http://matplotlib.org)"
   ]
  },
  {
   "cell_type": "code",
   "execution_count": null,
   "id": "507b6f0f",
   "metadata": {},
   "outputs": [],
   "source": []
  }
 ],
 "metadata": {
  "kernelspec": {
   "display_name": "python3.10",
   "language": "python",
   "name": "python3.10"
  }
 },
 "nbformat": 4,
 "nbformat_minor": 5
}
