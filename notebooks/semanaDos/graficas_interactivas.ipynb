{
 "cells": [
  {
   "cell_type": "markdown",
   "id": "e414fcfc",
   "metadata": {},
   "source": [
    "# Gráficas interactivas con ipywidgets"
   ]
  },
  {
   "cell_type": "markdown",
   "id": "d339d719",
   "metadata": {},
   "source": [
    "Estas herramientas interactivas en HTML nos permiten llevar nuestra exploración de datos al siguiente nivel, todo mientras permanecemos dentro del entorno familiar de Jupyter. Desde simples deslizadores hasta botones y casillas de verificación, ipywidgets nos brinda la capacidad de interactuar en tiempo real con nuestros datos.\n",
    "\n",
    "Ipywidgets solo funciona en el entorno de Jupyter Notebook, así que ten cuidado si estás usando JupyterLab u otro IDE."
   ]
  },
  {
   "cell_type": "code",
   "execution_count": 3,
   "id": "70325779",
   "metadata": {},
   "outputs": [],
   "source": [
    "# pip install ipywidgets --upgrade --user"
   ]
  },
  {
   "cell_type": "code",
   "execution_count": 4,
   "id": "e7d927ed",
   "metadata": {},
   "outputs": [],
   "source": [
    "import pandas as pd\n",
    "import matplotlib.pyplot as plt\n",
    "from ipywidgets import interact, widgets\n"
   ]
  },
  {
   "cell_type": "code",
   "execution_count": 5,
   "id": "f5f8558c",
   "metadata": {},
   "outputs": [],
   "source": [
    "def f(x):\n",
    "    return print(f\"el numero es {x}\")"
   ]
  },
  {
   "cell_type": "code",
   "execution_count": 6,
   "id": "4df0fa03",
   "metadata": {},
   "outputs": [],
   "source": [
    "interact(f,x=-10)"
   ]
  },
  {
   "cell_type": "code",
   "execution_count": null,
   "id": "c8f58017",
   "metadata": {},
   "outputs": [
    {
     "data": {
      "text/html": [
       "<div>\n",
       "<style scoped>\n",
       "    .dataframe tbody tr th:only-of-type {\n",
       "        vertical-align: middle;\n",
       "    }\n",
       "\n",
       "    .dataframe tbody tr th {\n",
       "        vertical-align: top;\n",
       "    }\n",
       "\n",
       "    .dataframe thead th {\n",
       "        text-align: right;\n",
       "    }\n",
       "</style>\n",
       "<table border=\"1\" class=\"dataframe\">\n",
       "  <thead>\n",
       "    <tr style=\"text-align: right;\">\n",
       "      <th></th>\n",
       "      <th>To</th>\n",
       "      <th>RH</th>\n",
       "      <th>P</th>\n",
       "      <th>Ws</th>\n",
       "      <th>Wd</th>\n",
       "      <th>Ig</th>\n",
       "      <th>Ib</th>\n",
       "      <th>Id</th>\n",
       "    </tr>\n",
       "    <tr>\n",
       "      <th>tiempo</th>\n",
       "      <th></th>\n",
       "      <th></th>\n",
       "      <th></th>\n",
       "      <th></th>\n",
       "      <th></th>\n",
       "      <th></th>\n",
       "      <th></th>\n",
       "      <th></th>\n",
       "    </tr>\n",
       "  </thead>\n",
       "  <tbody>\n",
       "    <tr>\n",
       "      <th>2012-01-01 00:00:00</th>\n",
       "      <td>19.3</td>\n",
       "      <td>58</td>\n",
       "      <td>87415</td>\n",
       "      <td>0.0</td>\n",
       "      <td>26</td>\n",
       "      <td>0</td>\n",
       "      <td>0</td>\n",
       "      <td>0</td>\n",
       "    </tr>\n",
       "    <tr>\n",
       "      <th>2012-01-01 01:00:00</th>\n",
       "      <td>18.6</td>\n",
       "      <td>59</td>\n",
       "      <td>87602</td>\n",
       "      <td>0.0</td>\n",
       "      <td>26</td>\n",
       "      <td>0</td>\n",
       "      <td>0</td>\n",
       "      <td>0</td>\n",
       "    </tr>\n",
       "    <tr>\n",
       "      <th>2012-01-01 02:00:00</th>\n",
       "      <td>17.9</td>\n",
       "      <td>61</td>\n",
       "      <td>87788</td>\n",
       "      <td>0.0</td>\n",
       "      <td>30</td>\n",
       "      <td>0</td>\n",
       "      <td>0</td>\n",
       "      <td>0</td>\n",
       "    </tr>\n",
       "    <tr>\n",
       "      <th>2012-01-01 03:00:00</th>\n",
       "      <td>17.3</td>\n",
       "      <td>66</td>\n",
       "      <td>87554</td>\n",
       "      <td>0.0</td>\n",
       "      <td>30</td>\n",
       "      <td>0</td>\n",
       "      <td>0</td>\n",
       "      <td>0</td>\n",
       "    </tr>\n",
       "    <tr>\n",
       "      <th>2012-01-01 04:00:00</th>\n",
       "      <td>16.6</td>\n",
       "      <td>71</td>\n",
       "      <td>87321</td>\n",
       "      <td>0.0</td>\n",
       "      <td>27</td>\n",
       "      <td>0</td>\n",
       "      <td>0</td>\n",
       "      <td>0</td>\n",
       "    </tr>\n",
       "  </tbody>\n",
       "</table>\n",
       "</div>"
      ],
      "text/plain": [
       "                       To  RH      P   Ws  Wd  Ig  Ib  Id\n",
       "tiempo                                                   \n",
       "2012-01-01 00:00:00  19.3  58  87415  0.0  26   0   0   0\n",
       "2012-01-01 01:00:00  18.6  59  87602  0.0  26   0   0   0\n",
       "2012-01-01 02:00:00  17.9  61  87788  0.0  30   0   0   0\n",
       "2012-01-01 03:00:00  17.3  66  87554  0.0  30   0   0   0\n",
       "2012-01-01 04:00:00  16.6  71  87321  0.0  27   0   0   0"
      ]
     },
     "execution_count": 5,
     "metadata": {},
     "output_type": "execute_result"
    }
   ],
   "source": [
    "f = \"../data/Cuernavaca_Enero_comas.csv\"\n",
    "cuerna = pd.read_csv(f,index_col=0,parse_dates=True)\n",
    "cuerna.head()"
   ]
  },
  {
   "cell_type": "code",
   "execution_count": null,
   "id": "f20252c1",
   "metadata": {},
   "outputs": [],
   "source": [
    "def grafica_serie(start, end):\n",
    "    # Filtrar la serie temporal por el rango de fechas\n",
    "    filtrado = cuerna[start:end]\n",
    "    \n",
    "    # Graficar la serie temporal filtrada\n",
    "    fig, ax = plt.subplots(figsize=(10, 5))\n",
    "    ax.plot(filtrado.To)\n",
    "    ax.set_xlabel('Fecha')\n",
    "    ax.set_ylabel('Valor')\n",
    "    ax.grid()\n"
   ]
  },
  {
   "cell_type": "code",
   "execution_count": null,
   "id": "7d926d62",
   "metadata": {},
   "outputs": [],
   "source": [
    "inicio_picker = widgets.DatePicker(description='Fecha inicio', value=pd.to_datetime('2012-01-01'))\n",
    "fin_picker    = widgets.DatePicker(description='Fecha fin'   , value=pd.to_datetime('2012-01-31'))\n"
   ]
  },
  {
   "cell_type": "code",
   "execution_count": null,
   "id": "bdefbee1",
   "metadata": {},
   "outputs": [
    {
     "data": {
      "application/vnd.jupyter.widget-view+json": {
       "model_id": "946d5e19fba2487dac6f221f0a4f9384",
       "version_major": 2,
       "version_minor": 0
      },
      "text/plain": [
       "interactive(children=(DatePicker(value=Timestamp('2012-01-01 00:00:00'), description='Fecha inicio', step=1), …"
      ]
     },
     "metadata": {},
     "output_type": "display_data"
    },
    {
     "data": {
      "text/plain": [
       "<function __main__.grafica_serie(start, end)>"
      ]
     },
     "execution_count": 8,
     "metadata": {},
     "output_type": "execute_result"
    }
   ],
   "source": [
    "widgets.interact(grafica_serie, start=inicio_picker, end=fin_picker)"
   ]
  }
 ],
 "metadata": {
  "kernelspec": {
   "display_name": "Python 3 (ipykernel)",
   "language": "python",
   "name": "python3"
  },
  "language_info": {
   "codemirror_mode": {
    "name": "ipython",
    "version": 3
   },
   "file_extension": ".py",
   "mimetype": "text/x-python",
   "name": "python",
   "nbconvert_exporter": "python",
   "pygments_lexer": "ipython3",
   "version": "3.10.12"
  }
 },
 "nbformat": 4,
 "nbformat_minor": 5
}
