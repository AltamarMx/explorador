{
 "cells": [
  {
   "cell_type": "markdown",
   "id": "d3837ceb-cbb5-4fd0-9556-8305af9435b1",
   "metadata": {},
   "source": [
    "# Funciones en Python\n",
    "\n",
    "¿Cansade de escribir el mismo código una y otra vez? ¡Las funciones de Python son la solución! Incorpora las mejores prácticas de programación desde el principio y aprende a utilizarlas para crear código modular desde tus primeros proyectos.\n",
    "\n",
    "Simplifica y organiza tu código de manera eficiente desde el inicio. Imagina cada función como una pequeña máquina diseñada para tareas específicas, lista para ser reutilizada en diferentes partes de tu proyecto. Desde aceptar argumentos hasta devolver resultados, las funciones promueven la modularidad y la reutilización del código. Aprende a utilizarlas para crear código modular desde tus primeros proyectos y transforma tu forma de programar."
   ]
  },
  {
   "cell_type": "code",
   "execution_count": 1,
   "id": "e8ee6a17",
   "metadata": {},
   "outputs": [],
   "source": [
    "import pandas as pd"
   ]
  },
  {
   "cell_type": "code",
   "execution_count": 2,
   "id": "43a8973d",
   "metadata": {},
   "outputs": [],
   "source": [
    "def funcion():\n",
    "    c = a + b\n",
    "    return c"
   ]
  },
  {
   "cell_type": "code",
   "execution_count": 3,
   "id": "641a0836",
   "metadata": {},
   "outputs": [
    {
     "data": {
      "text/plain": [
       "3"
      ]
     },
     "execution_count": 3,
     "metadata": {},
     "output_type": "execute_result"
    }
   ],
   "source": [
    "a = 1\n",
    "b = 2\n",
    "funcion()"
   ]
  },
  {
   "cell_type": "code",
   "execution_count": 4,
   "id": "1cb35043",
   "metadata": {},
   "outputs": [],
   "source": [
    "def funcionv2(a ,b):\n",
    "    c = a + b\n",
    "    return c\n",
    "    "
   ]
  },
  {
   "cell_type": "code",
   "execution_count": 5,
   "id": "17e8c09d",
   "metadata": {},
   "outputs": [
    {
     "data": {
      "text/plain": [
       "3"
      ]
     },
     "execution_count": 5,
     "metadata": {},
     "output_type": "execute_result"
    }
   ],
   "source": [
    "funcionv2(2,1)"
   ]
  },
  {
   "cell_type": "code",
   "execution_count": 6,
   "id": "64ff8105",
   "metadata": {},
   "outputs": [
    {
     "data": {
      "text/plain": [
       "4"
      ]
     },
     "execution_count": 6,
     "metadata": {},
     "output_type": "execute_result"
    }
   ],
   "source": [
    "resultado = funcionv2(2,2)\n",
    "resultado"
   ]
  },
  {
   "cell_type": "code",
   "execution_count": 7,
   "id": "1b0b39e9",
   "metadata": {},
   "outputs": [
    {
     "name": "stderr",
     "output_type": "stream",
     "text": [
      "C:\\Users\\gbv\\AppData\\Local\\Temp\\ipykernel_8504\\2979055612.py:5: FutureWarning: 'H' is deprecated and will be removed in a future version, please use 'h' instead.\n",
      "  df = pd.read_csv(f,index_col=0,parse_dates=True).resample(\"2H\").mean()\n"
     ]
    },
    {
     "data": {
      "text/html": [
       "<div>\n",
       "<style scoped>\n",
       "    .dataframe tbody tr th:only-of-type {\n",
       "        vertical-align: middle;\n",
       "    }\n",
       "\n",
       "    .dataframe tbody tr th {\n",
       "        vertical-align: top;\n",
       "    }\n",
       "\n",
       "    .dataframe thead th {\n",
       "        text-align: right;\n",
       "    }\n",
       "</style>\n",
       "<table border=\"1\" class=\"dataframe\">\n",
       "  <thead>\n",
       "    <tr style=\"text-align: right;\">\n",
       "      <th></th>\n",
       "      <th>To</th>\n",
       "      <th>Ws</th>\n",
       "      <th>Wd</th>\n",
       "      <th>P</th>\n",
       "      <th>Ig</th>\n",
       "      <th>Ib</th>\n",
       "      <th>Id</th>\n",
       "    </tr>\n",
       "    <tr>\n",
       "      <th>tiempo</th>\n",
       "      <th></th>\n",
       "      <th></th>\n",
       "      <th></th>\n",
       "      <th></th>\n",
       "      <th></th>\n",
       "      <th></th>\n",
       "      <th></th>\n",
       "    </tr>\n",
       "  </thead>\n",
       "  <tbody>\n",
       "    <tr>\n",
       "      <th>2012-01-01 00:00:00</th>\n",
       "      <td>18.95</td>\n",
       "      <td>0.00</td>\n",
       "      <td>26.0</td>\n",
       "      <td>87508.5</td>\n",
       "      <td>0.0</td>\n",
       "      <td>0.0</td>\n",
       "      <td>0.0</td>\n",
       "    </tr>\n",
       "    <tr>\n",
       "      <th>2012-01-01 02:00:00</th>\n",
       "      <td>17.60</td>\n",
       "      <td>0.00</td>\n",
       "      <td>30.0</td>\n",
       "      <td>87671.0</td>\n",
       "      <td>0.0</td>\n",
       "      <td>0.0</td>\n",
       "      <td>0.0</td>\n",
       "    </tr>\n",
       "    <tr>\n",
       "      <th>2012-01-01 04:00:00</th>\n",
       "      <td>16.25</td>\n",
       "      <td>0.00</td>\n",
       "      <td>26.5</td>\n",
       "      <td>87204.0</td>\n",
       "      <td>0.0</td>\n",
       "      <td>0.0</td>\n",
       "      <td>0.0</td>\n",
       "    </tr>\n",
       "    <tr>\n",
       "      <th>2012-01-01 06:00:00</th>\n",
       "      <td>17.50</td>\n",
       "      <td>0.00</td>\n",
       "      <td>30.5</td>\n",
       "      <td>87118.0</td>\n",
       "      <td>10.0</td>\n",
       "      <td>75.5</td>\n",
       "      <td>5.5</td>\n",
       "    </tr>\n",
       "    <tr>\n",
       "      <th>2012-01-01 08:00:00</th>\n",
       "      <td>19.50</td>\n",
       "      <td>0.00</td>\n",
       "      <td>78.0</td>\n",
       "      <td>87207.0</td>\n",
       "      <td>266.5</td>\n",
       "      <td>667.0</td>\n",
       "      <td>47.5</td>\n",
       "    </tr>\n",
       "    <tr>\n",
       "      <th>2012-01-01 10:00:00</th>\n",
       "      <td>20.00</td>\n",
       "      <td>1.55</td>\n",
       "      <td>134.0</td>\n",
       "      <td>87229.0</td>\n",
       "      <td>642.5</td>\n",
       "      <td>956.0</td>\n",
       "      <td>71.5</td>\n",
       "    </tr>\n",
       "    <tr>\n",
       "      <th>2012-01-01 12:00:00</th>\n",
       "      <td>21.50</td>\n",
       "      <td>1.65</td>\n",
       "      <td>147.5</td>\n",
       "      <td>87294.5</td>\n",
       "      <td>805.0</td>\n",
       "      <td>998.5</td>\n",
       "      <td>79.5</td>\n",
       "    </tr>\n",
       "    <tr>\n",
       "      <th>2012-01-01 14:00:00</th>\n",
       "      <td>21.50</td>\n",
       "      <td>1.25</td>\n",
       "      <td>170.0</td>\n",
       "      <td>87294.5</td>\n",
       "      <td>682.0</td>\n",
       "      <td>954.5</td>\n",
       "      <td>76.5</td>\n",
       "    </tr>\n",
       "    <tr>\n",
       "      <th>2012-01-01 16:00:00</th>\n",
       "      <td>20.00</td>\n",
       "      <td>0.50</td>\n",
       "      <td>169.0</td>\n",
       "      <td>87229.0</td>\n",
       "      <td>326.0</td>\n",
       "      <td>748.0</td>\n",
       "      <td>55.5</td>\n",
       "    </tr>\n",
       "    <tr>\n",
       "      <th>2012-01-01 18:00:00</th>\n",
       "      <td>17.05</td>\n",
       "      <td>0.00</td>\n",
       "      <td>245.0</td>\n",
       "      <td>87102.5</td>\n",
       "      <td>0.0</td>\n",
       "      <td>0.0</td>\n",
       "      <td>0.0</td>\n",
       "    </tr>\n",
       "    <tr>\n",
       "      <th>2012-01-01 20:00:00</th>\n",
       "      <td>17.15</td>\n",
       "      <td>0.10</td>\n",
       "      <td>67.5</td>\n",
       "      <td>87097.5</td>\n",
       "      <td>0.0</td>\n",
       "      <td>0.0</td>\n",
       "      <td>0.0</td>\n",
       "    </tr>\n",
       "    <tr>\n",
       "      <th>2012-01-01 22:00:00</th>\n",
       "      <td>16.25</td>\n",
       "      <td>0.65</td>\n",
       "      <td>91.0</td>\n",
       "      <td>87116.0</td>\n",
       "      <td>0.0</td>\n",
       "      <td>0.0</td>\n",
       "      <td>0.0</td>\n",
       "    </tr>\n",
       "  </tbody>\n",
       "</table>\n",
       "</div>"
      ],
      "text/plain": [
       "                        To    Ws     Wd        P     Ig     Ib   Id \n",
       "tiempo                                                              \n",
       "2012-01-01 00:00:00  18.95  0.00   26.0  87508.5    0.0    0.0   0.0\n",
       "2012-01-01 02:00:00  17.60  0.00   30.0  87671.0    0.0    0.0   0.0\n",
       "2012-01-01 04:00:00  16.25  0.00   26.5  87204.0    0.0    0.0   0.0\n",
       "2012-01-01 06:00:00  17.50  0.00   30.5  87118.0   10.0   75.5   5.5\n",
       "2012-01-01 08:00:00  19.50  0.00   78.0  87207.0  266.5  667.0  47.5\n",
       "2012-01-01 10:00:00  20.00  1.55  134.0  87229.0  642.5  956.0  71.5\n",
       "2012-01-01 12:00:00  21.50  1.65  147.5  87294.5  805.0  998.5  79.5\n",
       "2012-01-01 14:00:00  21.50  1.25  170.0  87294.5  682.0  954.5  76.5\n",
       "2012-01-01 16:00:00  20.00  0.50  169.0  87229.0  326.0  748.0  55.5\n",
       "2012-01-01 18:00:00  17.05  0.00  245.0  87102.5    0.0    0.0   0.0\n",
       "2012-01-01 20:00:00  17.15  0.10   67.5  87097.5    0.0    0.0   0.0\n",
       "2012-01-01 22:00:00  16.25  0.65   91.0  87116.0    0.0    0.0   0.0"
      ]
     },
     "execution_count": 7,
     "metadata": {},
     "output_type": "execute_result"
    }
   ],
   "source": [
    "def importa(f):\n",
    "    '''\n",
    "    Importa un archivo, toma la primera columna como indice y la convierte a date time. \n",
    "    Regresa el promedio diario de cada columna'''\n",
    "    df = pd.read_csv(f,index_col=0,parse_dates=True).resample(\"2H\").mean()\n",
    "    return df\n",
    "\n",
    "f = \"../data/Cuernavaca_1dia_comas.csv\"\n",
    "cuerna_mean = importa(f)\n",
    "cuerna_mean"
   ]
  },
  {
   "cell_type": "code",
   "execution_count": null,
   "id": "54e4642b-86e1-4c14-84f4-f30b5f11dadd",
   "metadata": {},
   "outputs": [],
   "source": []
  },
  {
   "cell_type": "markdown",
   "id": "5e4a674d-eaca-470d-855a-aa4ed6850780",
   "metadata": {},
   "source": [
    "## Para aprender más...\n",
    "1. [Funciones de Python w3schools](https://www.w3schools.com/python/python_functions.asp)"
   ]
  },
  {
   "cell_type": "markdown",
   "id": "d4b14b37-00d6-4e1b-96ff-d3ad1f6533b7",
   "metadata": {},
   "source": [
    "## Ejercicios sugeridos"
   ]
  },
  {
   "cell_type": "markdown",
   "id": "ac98950c-fa34-4d74-baa9-d660dc756926",
   "metadata": {},
   "source": [
    "\n",
    "### Ejercicio: Función para Resample con Argumentos por Default\n",
    "\n",
    "Escribe una función en Python que acepte un objeto `DataFrame` de la biblioteca `pandas` como parámetro. La función debe incluir un argumento adicional que especifique el periodo para aplicar la función `resample()`. La función debe calcular y retornar la desviación estándar de cada columna del dataframe para ese periodo especificado. Por defecto, el periodo debe estar configurado para ser anual.  Documenta la función.\n",
    "\n",
    "**Requisitos:**\n",
    "1. La función debe tener dos parámetros: el `DataFrame` y el periodo de muestreo.\n",
    "2. El argumento del periodo debe tener un valor por default anual.\n",
    "3. Utiliza la función `resample()` de `pandas` para agrupar los datos según el periodo indicado.\n",
    "4. Calcula y devuelve la desviación estándar de las columnas del  `DataFrame`.\n"
   ]
  },
  {
   "cell_type": "code",
   "execution_count": 8,
   "id": "2fe31f3e-304f-4004-b1cb-10e5ebec025b",
   "metadata": {},
   "outputs": [],
   "source": [
    "#| code-fold: true\n",
    "def resample_std(dataframe, period='YE'):\n",
    "    \"\"\"\n",
    "    Calcula la desviación estándar de los valores en un DataFrame agrupados por un periodo especificado.\n",
    "    \n",
    "    Args:\n",
    "    dataframe (pd.DataFrame): El DataFrame que contiene los datos a analizar.\n",
    "    period (str, opcional): Una cadena que representa el intervalo de tiempo para el agrupamiento.\n",
    "                            Los valores válidos son aquellos compatibles con la función `resample()` de pandas,\n",
    "                            como 'YE' para anual, 'ME' para mensual, etc. El valor por defecto es 'YE' (anual).\n",
    "                            \n",
    "    Returns:\n",
    "    pd.Series: Una serie con la desviación estándar de los valores agrupados por el periodo especificado.\n",
    "    \"\"\"\n",
    "    # Agrupar los datos por el periodo especificado y calcular la desviación estándar\n",
    "    result = dataframe.resample(period).std()\n",
    "    \n",
    "    return result"
   ]
  },
  {
   "cell_type": "code",
   "execution_count": 9,
   "id": "f20533c5-343a-467e-b4d0-3efa7d9b6307",
   "metadata": {},
   "outputs": [
    {
     "data": {
      "text/html": [
       "<div>\n",
       "<style scoped>\n",
       "    .dataframe tbody tr th:only-of-type {\n",
       "        vertical-align: middle;\n",
       "    }\n",
       "\n",
       "    .dataframe tbody tr th {\n",
       "        vertical-align: top;\n",
       "    }\n",
       "\n",
       "    .dataframe thead th {\n",
       "        text-align: right;\n",
       "    }\n",
       "</style>\n",
       "<table border=\"1\" class=\"dataframe\">\n",
       "  <thead>\n",
       "    <tr style=\"text-align: right;\">\n",
       "      <th></th>\n",
       "      <th>To</th>\n",
       "      <th>Ws</th>\n",
       "      <th>Wd</th>\n",
       "      <th>P</th>\n",
       "      <th>Ig</th>\n",
       "      <th>Ib</th>\n",
       "      <th>Id</th>\n",
       "    </tr>\n",
       "    <tr>\n",
       "      <th>tiempo</th>\n",
       "      <th></th>\n",
       "      <th></th>\n",
       "      <th></th>\n",
       "      <th></th>\n",
       "      <th></th>\n",
       "      <th></th>\n",
       "      <th></th>\n",
       "    </tr>\n",
       "  </thead>\n",
       "  <tbody>\n",
       "    <tr>\n",
       "      <th>2012-01-31</th>\n",
       "      <td>1.893345</td>\n",
       "      <td>0.651048</td>\n",
       "      <td>71.547346</td>\n",
       "      <td>173.948067</td>\n",
       "      <td>313.538191</td>\n",
       "      <td>449.154262</td>\n",
       "      <td>34.698048</td>\n",
       "    </tr>\n",
       "  </tbody>\n",
       "</table>\n",
       "</div>"
      ],
      "text/plain": [
       "                  To        Ws         Wd           P          Ig          Ib  \\\n",
       "tiempo                                                                          \n",
       "2012-01-31  1.893345  0.651048  71.547346  173.948067  313.538191  449.154262   \n",
       "\n",
       "                  Id   \n",
       "tiempo                 \n",
       "2012-01-31  34.698048  "
      ]
     },
     "execution_count": 9,
     "metadata": {},
     "output_type": "execute_result"
    }
   ],
   "source": [
    "resample_std(cuerna_mean,period=\"ME\")"
   ]
  },
  {
   "cell_type": "code",
   "execution_count": null,
   "id": "dbc68abc-b52a-44ca-aa8c-6d65e37cddb4",
   "metadata": {},
   "outputs": [],
   "source": []
  }
 ],
 "metadata": {
  "kernelspec": {
   "display_name": "Python 3 (ipykernel)",
   "language": "python",
   "name": "python3"
  },
  "language_info": {
   "codemirror_mode": {
    "name": "ipython",
    "version": 3
   },
   "file_extension": ".py",
   "mimetype": "text/x-python",
   "name": "python",
   "nbconvert_exporter": "python",
   "pygments_lexer": "ipython3",
   "version": "3.9.10"
  }
 },
 "nbformat": 4,
 "nbformat_minor": 5
}
