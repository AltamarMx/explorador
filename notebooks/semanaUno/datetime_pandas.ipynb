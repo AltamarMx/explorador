{
 "cells": [
  {
   "cell_type": "markdown",
   "id": "2aa5ea29",
   "metadata": {},
   "source": [
    "# El objeto datetime en Pandas\n",
    "\n",
    "En el análisis de series temporales con Pandas, la comprensión de los tipos de objetos de tiempo (datetime) es fundamental. Ahora, exploraremos cómo los tipos de objetos como *datetime64, Timestamp, DateOffset, Timedelta y Period*, son esenciales para trabajar con fechas y horas de manera precisa y eficiente en Pandas.\n",
    "\n",
    "Los objetos temporales en Pandas son el fundamento para el análisis de series temporales. A través de esta sesión, descubriremos la importancia de estos tipos de objetos y cómo son indispensables para una gestión precisa y eficiente del tiempo, ofreciendo las herramientas fundamentales para un análisis temporal.\n"
   ]
  },
  {
   "cell_type": "code",
   "execution_count": null,
   "id": "22685cf4",
   "metadata": {},
   "outputs": [],
   "source": [
    "import pandas as pd"
   ]
  },
  {
   "cell_type": "code",
   "execution_count": null,
   "id": "9879d133",
   "metadata": {},
   "outputs": [
    {
     "data": {
      "text/plain": [
       "DatetimeIndex(['2012-01-01 00:00:00', '2012-01-01 01:00:00',\n",
       "               '2012-01-01 02:00:00', '2012-01-01 03:00:00',\n",
       "               '2012-01-01 04:00:00', '2012-01-01 05:00:00',\n",
       "               '2012-01-01 06:00:00', '2012-01-01 07:00:00',\n",
       "               '2012-01-01 08:00:00', '2012-01-01 09:00:00',\n",
       "               '2012-01-01 10:00:00', '2012-01-01 11:00:00',\n",
       "               '2012-01-01 12:00:00', '2012-01-01 13:00:00',\n",
       "               '2012-01-01 14:00:00', '2012-01-01 15:00:00',\n",
       "               '2012-01-01 16:00:00', '2012-01-01 17:00:00',\n",
       "               '2012-01-01 18:00:00', '2012-01-01 19:00:00',\n",
       "               '2012-01-01 20:00:00', '2012-01-01 21:00:00',\n",
       "               '2012-01-01 22:00:00', '2012-01-01 23:00:00'],\n",
       "              dtype='datetime64[ns]', name='tiempo', freq=None)"
      ]
     },
     "execution_count": null,
     "metadata": {},
     "output_type": "execute_result"
    }
   ],
   "source": [
    "f = \"../data/Cuernavaca_1dia_comas.csv\"\n",
    "cuerna = pd.read_csv(\n",
    "    f,\n",
    "    index_col=0,\n",
    "    parse_dates=True\n",
    ")\n",
    "cuerna.index"
   ]
  },
  {
   "cell_type": "code",
   "execution_count": null,
   "id": "afe3c560",
   "metadata": {},
   "outputs": [
    {
     "data": {
      "text/plain": [
       "pandas.core.indexes.datetimes.DatetimeIndex"
      ]
     },
     "execution_count": null,
     "metadata": {},
     "output_type": "execute_result"
    }
   ],
   "source": [
    "type(cuerna.index)"
   ]
  },
  {
   "cell_type": "code",
   "execution_count": null,
   "id": "d6d31d18",
   "metadata": {},
   "outputs": [
    {
     "data": {
      "text/plain": [
       "Timestamp('2012-01-01 22:00:00')"
      ]
     },
     "execution_count": null,
     "metadata": {},
     "output_type": "execute_result"
    }
   ],
   "source": [
    "pd.to_datetime('2012-01-01 22:00:00')"
   ]
  },
  {
   "cell_type": "code",
   "execution_count": null,
   "id": "2acbd431",
   "metadata": {},
   "outputs": [
    {
     "data": {
      "text/plain": [
       "pandas._libs.tslibs.timestamps.Timestamp"
      ]
     },
     "execution_count": null,
     "metadata": {},
     "output_type": "execute_result"
    }
   ],
   "source": [
    "type(pd.to_datetime('2012-01-01 22:00:00'))"
   ]
  },
  {
   "cell_type": "code",
   "execution_count": null,
   "id": "80377e7e",
   "metadata": {},
   "outputs": [
    {
     "data": {
      "text/plain": [
       "Timestamp('2012-01-01 00:00:00')"
      ]
     },
     "execution_count": null,
     "metadata": {},
     "output_type": "execute_result"
    }
   ],
   "source": [
    "cuerna.index[0] # Si sacamos un elemento del datetimeindex obtenemos un timestamp"
   ]
  },
  {
   "cell_type": "code",
   "execution_count": null,
   "id": "2c933c9e",
   "metadata": {},
   "outputs": [
    {
     "data": {
      "text/plain": [
       "Timestamp('2013-01-01 22:00:00')"
      ]
     },
     "execution_count": null,
     "metadata": {},
     "output_type": "execute_result"
    }
   ],
   "source": [
    "pd.to_datetime('2012-01-01 22:00:00') + pd.DateOffset(years=1)"
   ]
  },
  {
   "cell_type": "code",
   "execution_count": null,
   "id": "4abce460",
   "metadata": {},
   "outputs": [
    {
     "data": {
      "text/plain": [
       "Period('2012-01-01', 'D')"
      ]
     },
     "execution_count": null,
     "metadata": {},
     "output_type": "execute_result"
    }
   ],
   "source": [
    "pd.Period('2012-01-01',freq=\"D\",month=2) "
   ]
  },
  {
   "cell_type": "code",
   "execution_count": null,
   "id": "8101ee6e",
   "metadata": {},
   "outputs": [
    {
     "data": {
      "text/plain": [
       "Timedelta('1 days 22:00:00')"
      ]
     },
     "execution_count": null,
     "metadata": {},
     "output_type": "execute_result"
    }
   ],
   "source": [
    "pd.to_datetime('2012-01-02 22:00:00')  - pd.to_datetime('2012-01-01')"
   ]
  },
  {
   "cell_type": "code",
   "execution_count": null,
   "id": "d622a3de",
   "metadata": {},
   "outputs": [
    {
     "data": {
      "text/plain": [
       "Timestamp('2012-01-05 02:30:05')"
      ]
     },
     "execution_count": null,
     "metadata": {},
     "output_type": "execute_result"
    }
   ],
   "source": [
    "pd.to_datetime('2012-01-02')  + pd.Timedelta('3D2h30Min5S')"
   ]
  }
 ],
 "metadata": {
  "kernelspec": {
   "display_name": "Python 3 (ipykernel)",
   "language": "python",
   "name": "python3"
  },
  "language_info": {
   "codemirror_mode": {
    "name": "ipython",
    "version": 3
   },
   "file_extension": ".py",
   "mimetype": "text/x-python",
   "name": "python",
   "nbconvert_exporter": "python",
   "pygments_lexer": "ipython3",
   "version": "3.9.10"
  }
 },
 "nbformat": 4,
 "nbformat_minor": 5
}
