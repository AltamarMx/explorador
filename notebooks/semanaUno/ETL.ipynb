{
 "cells": [
  {
   "cell_type": "markdown",
   "id": "c698c5c4",
   "metadata": {},
   "source": [
    "# Extracción, tranformación y carga\n",
    "\n",
    "¡Bienvenides al corazón del proceso ETL! Aquí es donde la Extracción, Transformación y Carga (Loading) de datos cobran vida.\n",
    "\n",
    "A lo largo de este recorrido, aprenderemos cómo estas tres etapas se entrelazan para convertir datos crudos en información útil, proporcionando la base para la toma de decisiones informadas en el mundo de la ciencia de datos. El proceso ETL es esencial para convertir datos en información valiosa. Aprenderás a extraer, transformar y cargar datos con precisión, abriendo las puertas a un mundo de análisis y conocimiento.\n",
    "\n",
    "Desde la extracción inicial de datos de diversas fuentes hasta la transformación hábil para revelar patrones y tendencias, y finalmente la carga en sistemas listos para su análisis, descubrirás cómo este proceso fundamental impulsa la ciencia de datos."
   ]
  },
  {
   "cell_type": "code",
   "execution_count": null,
   "id": "223f12e3",
   "metadata": {},
   "outputs": [],
   "source": [
    "import pandas as pd\n",
    "from iertools.read "
   ]
  },
  {
   "cell_type": "markdown",
   "id": "3d4aa000",
   "metadata": {},
   "source": [
    "### Importa archivos (Extraction) {.unnumbered}\n"
   ]
  },
  {
   "cell_type": "code",
   "execution_count": null,
   "id": "56472ee1",
   "metadata": {},
   "outputs": [],
   "source": [
    "esolmet = pd.read_csv\n",
    "ruoa = pd.read_csv\n"
   ]
  },
  {
   "cell_type": "markdown",
   "id": "79df1288",
   "metadata": {},
   "source": [
    "### Limpieza (Transformation) {.unnumbered}\n"
   ]
  },
  {
   "cell_type": "code",
   "execution_count": null,
   "id": "9352e493",
   "metadata": {},
   "outputs": [],
   "source": [
    "# cleaning esolmet y ruoa"
   ]
  },
  {
   "cell_type": "code",
   "execution_count": null,
   "id": "299615d8",
   "metadata": {},
   "outputs": [],
   "source": [
    "# Junta datos en un dataframe\n",
    "datos = pd.concat([esolmet,ruoa])"
   ]
  },
  {
   "cell_type": "markdown",
   "id": "488b2772",
   "metadata": {},
   "source": [
    "### Carga (Loading) {.unnumbered}\n"
   ]
  },
  {
   "cell_type": "code",
   "execution_count": null,
   "id": "d49e7c99",
   "metadata": {},
   "outputs": [],
   "source": [
    "datos.to_csv"
   ]
  },
  {
   "cell_type": "code",
   "execution_count": null,
   "id": "3f9c0cd9",
   "metadata": {},
   "outputs": [],
   "source": []
  }
 ],
 "metadata": {
  "kernelspec": {
   "display_name": "Python 3 (ipykernel)",
   "language": "python",
   "name": "python3"
  },
  "language_info": {
   "codemirror_mode": {
    "name": "ipython",
    "version": 3
   },
   "file_extension": ".py",
   "mimetype": "text/x-python",
   "name": "python",
   "nbconvert_exporter": "python",
   "pygments_lexer": "ipython3",
   "version": "3.9.10"
  }
 },
 "nbformat": 4,
 "nbformat_minor": 5
}
