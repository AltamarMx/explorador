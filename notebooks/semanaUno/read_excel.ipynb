{
 "cells": [
  {
   "cell_type": "markdown",
   "id": "26072907",
   "metadata": {},
   "source": [
    "# Lectura de archivos XLSX\n",
    "\n",
    "¿Quieres aprender a leer tus datos de una hoja de cálculo? En esta sesión, exploraremos la función **pd.read_excel()**, una herramienta fundamental para importar datos de archivos XLSX en Pandas. Descubre cómo *pd.read_excel()* simplifica la carga de datos Excel, ofreciendo opciones flexibles para controlar la lectura de datos y preparar el terreno para el análisis de datos efectivo en Pandas. \n",
    "\n",
    "Si buscas tener un control detallado sobre la importación de tus datos de Excel, *pd.read_excel()* es la herramienta que necesitas. Con sus capacidades avanzadas, puedes especificar exactamente qué hojas importar, cómo manejar las fechas, y ajustar numerosas opciones para afinar el proceso de carga. Esto te permite no solo simplificar la importación de datos sino también asegurar que la preparación de tus datos esté perfectamente alineada con las necesidades de tu análisis avanzado en Pandas.\n"
   ]
  },
  {
   "cell_type": "code",
   "execution_count": null,
   "id": "283ff941",
   "metadata": {},
   "outputs": [],
   "source": [
    "import pandas as pd"
   ]
  },
  {
   "cell_type": "code",
   "execution_count": null,
   "id": "22142c67",
   "metadata": {},
   "outputs": [
    {
     "data": {
      "text/html": [
       "<div>\n",
       "<style scoped>\n",
       "    .dataframe tbody tr th:only-of-type {\n",
       "        vertical-align: middle;\n",
       "    }\n",
       "\n",
       "    .dataframe tbody tr th {\n",
       "        vertical-align: top;\n",
       "    }\n",
       "\n",
       "    .dataframe thead th {\n",
       "        text-align: right;\n",
       "    }\n",
       "</style>\n",
       "<table border=\"1\" class=\"dataframe\">\n",
       "  <thead>\n",
       "    <tr style=\"text-align: right;\">\n",
       "      <th></th>\n",
       "      <th>tiempo</th>\n",
       "      <th>To</th>\n",
       "    </tr>\n",
       "  </thead>\n",
       "  <tbody>\n",
       "    <tr>\n",
       "      <th>0</th>\n",
       "      <td>2012-01-01 00:00:00</td>\n",
       "      <td>19.3</td>\n",
       "    </tr>\n",
       "    <tr>\n",
       "      <th>1</th>\n",
       "      <td>2012-01-01 01:00:00</td>\n",
       "      <td>18.6</td>\n",
       "    </tr>\n",
       "    <tr>\n",
       "      <th>2</th>\n",
       "      <td>2012-01-01 02:00:00</td>\n",
       "      <td>17.9</td>\n",
       "    </tr>\n",
       "    <tr>\n",
       "      <th>3</th>\n",
       "      <td>2012-01-01 03:00:00</td>\n",
       "      <td>17.3</td>\n",
       "    </tr>\n",
       "    <tr>\n",
       "      <th>4</th>\n",
       "      <td>2012-01-01 04:00:00</td>\n",
       "      <td>16.6</td>\n",
       "    </tr>\n",
       "  </tbody>\n",
       "</table>\n",
       "</div>"
      ],
      "text/plain": [
       "               tiempo    To\n",
       "0 2012-01-01 00:00:00  19.3\n",
       "1 2012-01-01 01:00:00  18.6\n",
       "2 2012-01-01 02:00:00  17.9\n",
       "3 2012-01-01 03:00:00  17.3\n",
       "4 2012-01-01 04:00:00  16.6"
      ]
     },
     "execution_count": null,
     "metadata": {},
     "output_type": "execute_result"
    }
   ],
   "source": [
    "f = \"../data/Cuernavaca_To_1dia_comas.xlsx\"\n",
    "cuerna = pd.read_excel(f)\n",
    "cuerna.head()"
   ]
  },
  {
   "cell_type": "code",
   "execution_count": null,
   "id": "2ea489b5",
   "metadata": {},
   "outputs": [
    {
     "data": {
      "text/html": [
       "<div>\n",
       "<style scoped>\n",
       "    .dataframe tbody tr th:only-of-type {\n",
       "        vertical-align: middle;\n",
       "    }\n",
       "\n",
       "    .dataframe tbody tr th {\n",
       "        vertical-align: top;\n",
       "    }\n",
       "\n",
       "    .dataframe thead th {\n",
       "        text-align: right;\n",
       "    }\n",
       "</style>\n",
       "<table border=\"1\" class=\"dataframe\">\n",
       "  <thead>\n",
       "    <tr style=\"text-align: right;\">\n",
       "      <th></th>\n",
       "      <th>To</th>\n",
       "    </tr>\n",
       "    <tr>\n",
       "      <th>tiempo</th>\n",
       "      <th></th>\n",
       "    </tr>\n",
       "  </thead>\n",
       "  <tbody>\n",
       "    <tr>\n",
       "      <th>2012-01-01 00:00:00</th>\n",
       "      <td>19.3</td>\n",
       "    </tr>\n",
       "    <tr>\n",
       "      <th>2012-01-01 01:00:00</th>\n",
       "      <td>18.6</td>\n",
       "    </tr>\n",
       "    <tr>\n",
       "      <th>2012-01-01 02:00:00</th>\n",
       "      <td>17.9</td>\n",
       "    </tr>\n",
       "    <tr>\n",
       "      <th>2012-01-01 03:00:00</th>\n",
       "      <td>17.3</td>\n",
       "    </tr>\n",
       "    <tr>\n",
       "      <th>2012-01-01 04:00:00</th>\n",
       "      <td>16.6</td>\n",
       "    </tr>\n",
       "  </tbody>\n",
       "</table>\n",
       "</div>"
      ],
      "text/plain": [
       "                       To\n",
       "tiempo                   \n",
       "2012-01-01 00:00:00  19.3\n",
       "2012-01-01 01:00:00  18.6\n",
       "2012-01-01 02:00:00  17.9\n",
       "2012-01-01 03:00:00  17.3\n",
       "2012-01-01 04:00:00  16.6"
      ]
     },
     "execution_count": null,
     "metadata": {},
     "output_type": "execute_result"
    }
   ],
   "source": [
    "f = \"../data/Cuernavaca_To_1dia_comas.xlsx\"\n",
    "cuerna = pd.read_excel(f,index_col=0) #explorar opciones de read_excel\n",
    "cuerna.head()"
   ]
  },
  {
   "cell_type": "code",
   "execution_count": null,
   "id": "f67f6519",
   "metadata": {},
   "outputs": [
    {
     "data": {
      "text/plain": [
       "DatetimeIndex(['2012-01-01 00:00:00', '2012-01-01 01:00:00',\n",
       "               '2012-01-01 02:00:00', '2012-01-01 03:00:00',\n",
       "               '2012-01-01 04:00:00', '2012-01-01 05:00:00',\n",
       "               '2012-01-01 06:00:00', '2012-01-01 07:00:00',\n",
       "               '2012-01-01 08:00:00', '2012-01-01 09:00:00',\n",
       "               '2012-01-01 10:00:00', '2012-01-01 11:00:00',\n",
       "               '2012-01-01 12:00:00', '2012-01-01 13:00:00',\n",
       "               '2012-01-01 14:00:00', '2012-01-01 15:00:00',\n",
       "               '2012-01-01 16:00:00', '2012-01-01 17:00:00',\n",
       "               '2012-01-01 18:00:00', '2012-01-01 19:00:00',\n",
       "               '2012-01-01 20:00:00', '2012-01-01 21:00:00',\n",
       "               '2012-01-01 22:00:00', '2012-01-01 23:00:00'],\n",
       "              dtype='datetime64[ns]', name='tiempo', freq=None)"
      ]
     },
     "execution_count": null,
     "metadata": {},
     "output_type": "execute_result"
    }
   ],
   "source": [
    "cuerna.index # resalta que se importa como datetime porque asi estaba declarada en el excel"
   ]
  },
  {
   "cell_type": "code",
   "execution_count": null,
   "id": "30663fde",
   "metadata": {},
   "outputs": [],
   "source": []
  },
  {
   "cell_type": "code",
   "execution_count": null,
   "id": "5ad62bf3",
   "metadata": {},
   "outputs": [],
   "source": []
  }
 ],
 "metadata": {
  "kernelspec": {
   "display_name": "Python 3 (ipykernel)",
   "language": "python",
   "name": "python3"
  },
  "language_info": {
   "codemirror_mode": {
    "name": "ipython",
    "version": 3
   },
   "file_extension": ".py",
   "mimetype": "text/x-python",
   "name": "python",
   "nbconvert_exporter": "python",
   "pygments_lexer": "ipython3",
   "version": "3.9.10"
  }
 },
 "nbformat": 4,
 "nbformat_minor": 5
}
