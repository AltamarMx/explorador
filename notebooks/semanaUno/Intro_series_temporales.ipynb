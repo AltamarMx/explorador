{
 "cells": [
  {
   "cell_type": "markdown",
   "id": "84f574d3",
   "metadata": {},
   "source": [
    "# Introducción a las series temporales\n",
    "\n",
    "¡Bienvenides al emocionante mundo de las series temporales, explora el tiempo con Pandas! En esta sección, exploraremos cómo Pandas, la popular biblioteca de Python, nos permite manejar y analizar datos temporales con facilidad. Desde momentos en el tiempo hasta valores correspondientes, descubre cómo las series temporales se convierten en una herramienta invaluable en la ciencia de datos y la ingeniería.\n",
    "\n",
    "Las series temporales nos permiten comprender cómo evolucionan los datos a lo largo del tiempo. Revelan patrones y tendencias que nos ayudan a tomar decisiones informadas. Desde fechas hasta valores, exploraremos cómo Pandas nos brinda la capacidad de manipular el tiempo con la misma facilidad que manipulamos los números.\n",
    "\n",
    "Desde la extracción de momentos en el tiempo hasta la manipulación de valores correspondientes, Pandas se convierte en nuestro aliado confiable en el análisis temporal."
   ]
  },
  {
   "cell_type": "code",
   "execution_count": null,
   "id": "b03e9d50",
   "metadata": {},
   "outputs": [],
   "source": [
    "import pandas as pd"
   ]
  },
  {
   "cell_type": "markdown",
   "id": "979cd409",
   "metadata": {},
   "source": [
    "Formato año-mes-dia\n",
    "2020-01-01\n",
    "\n",
    "\n",
    "Formato año-mes-dia hora:minuto \n",
    "en formato 24 horas\n",
    "2020-01-01 22:00\n",
    "\n",
    "Formato año-mes-dia hora:minuto:segundo\n",
    "en formato 24 horas\n",
    "2020-01-01 22:00:30.1\n",
    "\n",
    "\n",
    "Formato año-mes-dia hora:minuto \n",
    "en formato AM PM\n",
    "2020-01-01 10:00:30.1 PM\n",
    "\n"
   ]
  },
  {
   "cell_type": "code",
   "execution_count": null,
   "id": "18ef53d1",
   "metadata": {},
   "outputs": [],
   "source": [
    "%load ../data/Cuernavaca_To_1dia_comas.csv\n"
   ]
  },
  {
   "cell_type": "code",
   "execution_count": null,
   "id": "de15bfd9",
   "metadata": {},
   "outputs": [],
   "source": [
    "%load ../data/Cuernavca_T1dia_tabulador.csv"
   ]
  },
  {
   "cell_type": "code",
   "execution_count": null,
   "id": "1f4c64ef",
   "metadata": {},
   "outputs": [
    {
     "data": {
      "text/plain": [
       "Timestamp('2020-01-01 00:00:00')"
      ]
     },
     "execution_count": null,
     "metadata": {},
     "output_type": "execute_result"
    }
   ],
   "source": [
    "\n",
    "a = pd.to_datetime('2020-01-01')\n",
    "a"
   ]
  },
  {
   "cell_type": "code",
   "execution_count": null,
   "id": "3ebe1520",
   "metadata": {},
   "outputs": [
    {
     "data": {
      "text/plain": [
       "Timestamp('2020-01-01 01:00:00')"
      ]
     },
     "execution_count": null,
     "metadata": {},
     "output_type": "execute_result"
    }
   ],
   "source": [
    "a + pd.DateOffset(hour=1)"
   ]
  },
  {
   "cell_type": "code",
   "execution_count": null,
   "id": "18560e36",
   "metadata": {},
   "outputs": [
    {
     "data": {
      "text/plain": [
       "Timestamp('2020-01-01 01:00:00')"
      ]
     },
     "execution_count": null,
     "metadata": {},
     "output_type": "execute_result"
    }
   ],
   "source": [
    "a + pd.Timedelta('1h')"
   ]
  }
 ],
 "metadata": {
  "kernelspec": {
   "display_name": "Python 3 (ipykernel)",
   "language": "python",
   "name": "python3"
  },
  "language_info": {
   "codemirror_mode": {
    "name": "ipython",
    "version": 3
   },
   "file_extension": ".py",
   "mimetype": "text/x-python",
   "name": "python",
   "nbconvert_exporter": "python",
   "pygments_lexer": "ipython3",
   "version": "3.9.10"
  }
 },
 "nbformat": 4,
 "nbformat_minor": 5
}
