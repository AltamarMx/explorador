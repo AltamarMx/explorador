{
 "cells": [
  {
   "cell_type": "markdown",
   "id": "e8205c29",
   "metadata": {},
   "source": [
    "# El índice en series temporales\n",
    "\n",
    "El índice en series temporales, facilita la identificación, ordenación y análisis de tus datos, convirtiéndose en un elemento crucial en el manejo de series temporales.\n",
    "\n",
    "Conoce la manera en que el índice se transforma en un aliado  para la manipulación de datos cronológicamente estructurados. A lo largo de este notebook, aprenderemos a configurar el índice en Pandas, en específico con series temporales. Esto nos abre la puerta a realizar operaciones complejas como el filtrado por intervalos de tiempo y el estudio de patrones estacionales. Experimenta la transformación que el índice en Pandas puede aportar a tu metodología de análisis de series temporales."
   ]
  },
  {
   "cell_type": "code",
   "execution_count": null,
   "id": "457d6226",
   "metadata": {},
   "outputs": [],
   "source": [
    "import pandas as pd"
   ]
  },
  {
   "cell_type": "code",
   "execution_count": null,
   "id": "82761b0e",
   "metadata": {},
   "outputs": [
    {
     "data": {
      "text/html": [
       "<div>\n",
       "<style scoped>\n",
       "    .dataframe tbody tr th:only-of-type {\n",
       "        vertical-align: middle;\n",
       "    }\n",
       "\n",
       "    .dataframe tbody tr th {\n",
       "        vertical-align: top;\n",
       "    }\n",
       "\n",
       "    .dataframe thead th {\n",
       "        text-align: right;\n",
       "    }\n",
       "</style>\n",
       "<table border=\"1\" class=\"dataframe\">\n",
       "  <thead>\n",
       "    <tr style=\"text-align: right;\">\n",
       "      <th></th>\n",
       "      <th>tiempo</th>\n",
       "      <th>To</th>\n",
       "    </tr>\n",
       "  </thead>\n",
       "  <tbody>\n",
       "    <tr>\n",
       "      <th>0</th>\n",
       "      <td>2012-01-01 00:00:00</td>\n",
       "      <td>19.3</td>\n",
       "    </tr>\n",
       "    <tr>\n",
       "      <th>1</th>\n",
       "      <td>2012-01-01 01:00:00</td>\n",
       "      <td>18.6</td>\n",
       "    </tr>\n",
       "    <tr>\n",
       "      <th>2</th>\n",
       "      <td>2012-01-01 02:00:00</td>\n",
       "      <td>17.9</td>\n",
       "    </tr>\n",
       "    <tr>\n",
       "      <th>3</th>\n",
       "      <td>2012-01-01 03:00:00</td>\n",
       "      <td>17.3</td>\n",
       "    </tr>\n",
       "    <tr>\n",
       "      <th>4</th>\n",
       "      <td>2012-01-01 04:00:00</td>\n",
       "      <td>16.6</td>\n",
       "    </tr>\n",
       "  </tbody>\n",
       "</table>\n",
       "</div>"
      ],
      "text/plain": [
       "                tiempo    To\n",
       "0  2012-01-01 00:00:00  19.3\n",
       "1  2012-01-01 01:00:00  18.6\n",
       "2  2012-01-01 02:00:00  17.9\n",
       "3  2012-01-01 03:00:00  17.3\n",
       "4  2012-01-01 04:00:00  16.6"
      ]
     },
     "execution_count": null,
     "metadata": {},
     "output_type": "execute_result"
    }
   ],
   "source": [
    "f = \"../data/Cuernavaca_To_1dia_comas.csv\"\n",
    "cuerna = pd.read_csv(\n",
    "    f\n",
    ")\n",
    "cuerna.head()"
   ]
  },
  {
   "cell_type": "code",
   "execution_count": null,
   "id": "53bb85d0",
   "metadata": {},
   "outputs": [
    {
     "data": {
      "text/plain": [
       "RangeIndex(start=0, stop=24, step=1)"
      ]
     },
     "execution_count": null,
     "metadata": {},
     "output_type": "execute_result"
    }
   ],
   "source": [
    "cuerna.index"
   ]
  },
  {
   "cell_type": "code",
   "execution_count": null,
   "id": "c577d84f",
   "metadata": {},
   "outputs": [
    {
     "data": {
      "text/html": [
       "<div>\n",
       "<style scoped>\n",
       "    .dataframe tbody tr th:only-of-type {\n",
       "        vertical-align: middle;\n",
       "    }\n",
       "\n",
       "    .dataframe tbody tr th {\n",
       "        vertical-align: top;\n",
       "    }\n",
       "\n",
       "    .dataframe thead th {\n",
       "        text-align: right;\n",
       "    }\n",
       "</style>\n",
       "<table border=\"1\" class=\"dataframe\">\n",
       "  <thead>\n",
       "    <tr style=\"text-align: right;\">\n",
       "      <th></th>\n",
       "      <th>To</th>\n",
       "    </tr>\n",
       "    <tr>\n",
       "      <th>tiempo</th>\n",
       "      <th></th>\n",
       "    </tr>\n",
       "  </thead>\n",
       "  <tbody>\n",
       "    <tr>\n",
       "      <th>2012-01-01 00:00:00</th>\n",
       "      <td>19.3</td>\n",
       "    </tr>\n",
       "    <tr>\n",
       "      <th>2012-01-01 01:00:00</th>\n",
       "      <td>18.6</td>\n",
       "    </tr>\n",
       "    <tr>\n",
       "      <th>2012-01-01 02:00:00</th>\n",
       "      <td>17.9</td>\n",
       "    </tr>\n",
       "    <tr>\n",
       "      <th>2012-01-01 03:00:00</th>\n",
       "      <td>17.3</td>\n",
       "    </tr>\n",
       "    <tr>\n",
       "      <th>2012-01-01 04:00:00</th>\n",
       "      <td>16.6</td>\n",
       "    </tr>\n",
       "  </tbody>\n",
       "</table>\n",
       "</div>"
      ],
      "text/plain": [
       "                       To\n",
       "tiempo                   \n",
       "2012-01-01 00:00:00  19.3\n",
       "2012-01-01 01:00:00  18.6\n",
       "2012-01-01 02:00:00  17.9\n",
       "2012-01-01 03:00:00  17.3\n",
       "2012-01-01 04:00:00  16.6"
      ]
     },
     "execution_count": null,
     "metadata": {},
     "output_type": "execute_result"
    }
   ],
   "source": [
    "f = \"../data/Cuernavaca_To_1dia_comas.csv\"\n",
    "cuerna = pd.read_csv(\n",
    "    f,\n",
    "    index_col=0,\n",
    "    parse_dates=True\n",
    ")\n",
    "cuerna.head()"
   ]
  },
  {
   "cell_type": "code",
   "execution_count": null,
   "id": "ed5e6a5b",
   "metadata": {},
   "outputs": [
    {
     "data": {
      "text/plain": [
       "DatetimeIndex(['2012-01-01 00:00:00', '2012-01-01 01:00:00',\n",
       "               '2012-01-01 02:00:00', '2012-01-01 03:00:00',\n",
       "               '2012-01-01 04:00:00', '2012-01-01 05:00:00',\n",
       "               '2012-01-01 06:00:00', '2012-01-01 07:00:00',\n",
       "               '2012-01-01 08:00:00', '2012-01-01 09:00:00',\n",
       "               '2012-01-01 10:00:00', '2012-01-01 11:00:00',\n",
       "               '2012-01-01 12:00:00', '2012-01-01 13:00:00',\n",
       "               '2012-01-01 14:00:00', '2012-01-01 15:00:00',\n",
       "               '2012-01-01 16:00:00', '2012-01-01 17:00:00',\n",
       "               '2012-01-01 18:00:00', '2012-01-01 19:00:00',\n",
       "               '2012-01-01 20:00:00', '2012-01-01 21:00:00',\n",
       "               '2012-01-01 22:00:00', '2012-01-01 23:00:00'],\n",
       "              dtype='datetime64[ns]', name='tiempo', freq=None)"
      ]
     },
     "execution_count": null,
     "metadata": {},
     "output_type": "execute_result"
    }
   ],
   "source": [
    "cuerna.index # comentar que podrian ser solo dias"
   ]
  },
  {
   "cell_type": "code",
   "execution_count": null,
   "id": "79615be4",
   "metadata": {},
   "outputs": [
    {
     "data": {
      "text/html": [
       "<div>\n",
       "<style scoped>\n",
       "    .dataframe tbody tr th:only-of-type {\n",
       "        vertical-align: middle;\n",
       "    }\n",
       "\n",
       "    .dataframe tbody tr th {\n",
       "        vertical-align: top;\n",
       "    }\n",
       "\n",
       "    .dataframe thead th {\n",
       "        text-align: right;\n",
       "    }\n",
       "</style>\n",
       "<table border=\"1\" class=\"dataframe\">\n",
       "  <thead>\n",
       "    <tr style=\"text-align: right;\">\n",
       "      <th></th>\n",
       "      <th>To</th>\n",
       "    </tr>\n",
       "    <tr>\n",
       "      <th>tiempo</th>\n",
       "      <th></th>\n",
       "    </tr>\n",
       "  </thead>\n",
       "  <tbody>\n",
       "    <tr>\n",
       "      <th>2012-01-01</th>\n",
       "      <td>18.604167</td>\n",
       "    </tr>\n",
       "  </tbody>\n",
       "</table>\n",
       "</div>"
      ],
      "text/plain": [
       "                   To\n",
       "tiempo               \n",
       "2012-01-01  18.604167"
      ]
     },
     "execution_count": null,
     "metadata": {},
     "output_type": "execute_result"
    }
   ],
   "source": [
    "cuerna.resample(\"D\").mean() # veremos mas operaciones "
   ]
  },
  {
   "cell_type": "code",
   "execution_count": null,
   "id": "6f66297e",
   "metadata": {},
   "outputs": [],
   "source": []
  }
 ],
 "metadata": {
  "kernelspec": {
   "display_name": "Python 3 (ipykernel)",
   "language": "python",
   "name": "python3"
  },
  "language_info": {
   "codemirror_mode": {
    "name": "ipython",
    "version": 3
   },
   "file_extension": ".py",
   "mimetype": "text/x-python",
   "name": "python",
   "nbconvert_exporter": "python",
   "pygments_lexer": "ipython3",
   "version": "3.9.10"
  }
 },
 "nbformat": 4,
 "nbformat_minor": 5
}
