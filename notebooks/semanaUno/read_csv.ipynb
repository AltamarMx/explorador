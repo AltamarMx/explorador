{
 "cells": [
  {
   "cell_type": "markdown",
   "id": "ea759b24",
   "metadata": {},
   "source": [
    "# Lectura de archivos csv \n",
    "\n",
    "En el análisis de datos con Pandas, la función **pd.read_csv()** es una herramienta esencial para importar datos desde archivos CSV. Esta poderosa función no solo simplifica la carga de datos, sino que también ofrece una amplia gama de opciones flexibles que permiten una adaptación precisa a las diversas necesidades de importación.\n",
    "\n",
    "Aprender a personalizar la lectura de tus archivos CSV es esencial para alinearlos con los objetivos específicos de tu proyecto. Ya sea que necesites saltar filas, interpretar fechas o utilizar una columna como índice, pd.read_csv() te brinda todas las herramientas necesarias para preparar tus datos para un análisis de datos efectivo y poderoso en Pandas.\n",
    "\n",
    "Es más que una simple función de importación; es la clave para desbloquear el potencial completo de tus datos en el entorno de Pandas, permitiéndote centrarte en lo que realmente importa: obtener infromación valiosa a través del análisis de datos."
   ]
  },
  {
   "cell_type": "code",
   "execution_count": null,
   "id": "d6382b24",
   "metadata": {},
   "outputs": [],
   "source": [
    "import pandas as pd"
   ]
  },
  {
   "cell_type": "code",
   "execution_count": null,
   "id": "c8e45498",
   "metadata": {},
   "outputs": [
    {
     "data": {
      "text/html": [
       "<div>\n",
       "<style scoped>\n",
       "    .dataframe tbody tr th:only-of-type {\n",
       "        vertical-align: middle;\n",
       "    }\n",
       "\n",
       "    .dataframe tbody tr th {\n",
       "        vertical-align: top;\n",
       "    }\n",
       "\n",
       "    .dataframe thead th {\n",
       "        text-align: right;\n",
       "    }\n",
       "</style>\n",
       "<table border=\"1\" class=\"dataframe\">\n",
       "  <thead>\n",
       "    <tr style=\"text-align: right;\">\n",
       "      <th></th>\n",
       "      <th>tiempo</th>\n",
       "      <th>To</th>\n",
       "    </tr>\n",
       "  </thead>\n",
       "  <tbody>\n",
       "    <tr>\n",
       "      <th>0</th>\n",
       "      <td>2012-01-01 00:00:00</td>\n",
       "      <td>19.3</td>\n",
       "    </tr>\n",
       "    <tr>\n",
       "      <th>1</th>\n",
       "      <td>2012-01-01 01:00:00</td>\n",
       "      <td>18.6</td>\n",
       "    </tr>\n",
       "    <tr>\n",
       "      <th>2</th>\n",
       "      <td>2012-01-01 02:00:00</td>\n",
       "      <td>17.9</td>\n",
       "    </tr>\n",
       "    <tr>\n",
       "      <th>3</th>\n",
       "      <td>2012-01-01 03:00:00</td>\n",
       "      <td>17.3</td>\n",
       "    </tr>\n",
       "    <tr>\n",
       "      <th>4</th>\n",
       "      <td>2012-01-01 04:00:00</td>\n",
       "      <td>16.6</td>\n",
       "    </tr>\n",
       "  </tbody>\n",
       "</table>\n",
       "</div>"
      ],
      "text/plain": [
       "                tiempo    To\n",
       "0  2012-01-01 00:00:00  19.3\n",
       "1  2012-01-01 01:00:00  18.6\n",
       "2  2012-01-01 02:00:00  17.9\n",
       "3  2012-01-01 03:00:00  17.3\n",
       "4  2012-01-01 04:00:00  16.6"
      ]
     },
     "execution_count": null,
     "metadata": {},
     "output_type": "execute_result"
    }
   ],
   "source": [
    "f = \"../data/Cuernavaca_To_1dia_comas.csv\"\n",
    "cuerna = pd.read_csv(f)\n",
    "cuerna.head() # hacerlo primero sin head"
   ]
  },
  {
   "cell_type": "code",
   "execution_count": null,
   "id": "b3103e82",
   "metadata": {},
   "outputs": [
    {
     "data": {
      "text/plain": [
       "pandas.core.frame.DataFrame"
      ]
     },
     "execution_count": null,
     "metadata": {},
     "output_type": "execute_result"
    }
   ],
   "source": [
    "type(cuerna)"
   ]
  },
  {
   "cell_type": "code",
   "execution_count": null,
   "id": "05dfd932",
   "metadata": {},
   "outputs": [],
   "source": [
    "cuerna = pd.read_csv(f) #Muestra las opciones que tiene shift + tab adentro de parentesis"
   ]
  },
  {
   "cell_type": "code",
   "execution_count": null,
   "id": "b6f2eb5a",
   "metadata": {},
   "outputs": [
    {
     "data": {
      "text/plain": [
       "Index(['2012-01-01 00:00:00', '2012-01-01 01:00:00', '2012-01-01 02:00:00',\n",
       "       '2012-01-01 03:00:00', '2012-01-01 04:00:00', '2012-01-01 05:00:00',\n",
       "       '2012-01-01 06:00:00', '2012-01-01 07:00:00', '2012-01-01 08:00:00',\n",
       "       '2012-01-01 09:00:00', '2012-01-01 10:00:00', '2012-01-01 11:00:00',\n",
       "       '2012-01-01 12:00:00', '2012-01-01 13:00:00', '2012-01-01 14:00:00',\n",
       "       '2012-01-01 15:00:00', '2012-01-01 16:00:00', '2012-01-01 17:00:00',\n",
       "       '2012-01-01 18:00:00', '2012-01-01 19:00:00', '2012-01-01 20:00:00',\n",
       "       '2012-01-01 21:00:00', '2012-01-01 22:00:00', '2012-01-01 23:00:00'],\n",
       "      dtype='object', name='tiempo')"
      ]
     },
     "execution_count": null,
     "metadata": {},
     "output_type": "execute_result"
    }
   ],
   "source": [
    "cuerna = pd.read_csv(f,index_col=0)\n",
    "cuerna.index"
   ]
  },
  {
   "cell_type": "code",
   "execution_count": null,
   "id": "daead608",
   "metadata": {},
   "outputs": [],
   "source": []
  }
 ],
 "metadata": {
  "kernelspec": {
   "display_name": "Python 3 (ipykernel)",
   "language": "python",
   "name": "python3"
  },
  "language_info": {
   "codemirror_mode": {
    "name": "ipython",
    "version": 3
   },
   "file_extension": ".py",
   "mimetype": "text/x-python",
   "name": "python",
   "nbconvert_exporter": "python",
   "pygments_lexer": "ipython3",
   "version": "3.9.10"
  }
 },
 "nbformat": 4,
 "nbformat_minor": 5
}
