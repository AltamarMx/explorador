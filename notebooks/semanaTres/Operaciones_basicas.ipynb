{
 "cells": [
  {
   "cell_type": "markdown",
   "id": "85bd850e",
   "metadata": {},
   "source": [
    "# Operaciones básicas con arrays\n",
    "\n",
    "¡Hola a todes! En esta sesión, veremos las operaciones básicas en NumPy. Aprenderemos cómo crear arreglos multidimensionales utilizando funciones como **np.zeros**, **np.ones**, **np.eye** y **np.identity**, esenciales para la manipulación de datos en NumPy. \n",
    "\n",
    "Comenzaremos explorando cómo crear arreglos multidimensionales utilizando diversas funciones proporcionadas por NumPy. Luego, nos sumergiremos en las operaciones fundamentales como suma, resta, multiplicación y división en NumPy, destacando la flexibilidad de realizar estas operaciones elemento a elemento.  Aprenderas las herramientas esenciales para crear y manipular arrays multidimensionales, realizar operaciones matemáticas con precisión y rapidez, y aprovechar las ventajas de las operaciones para optimizar tu código.\n",
    "\n",
    "Al final de esta sesión, tendrás las habilidades fundamentales para realizar un análisis de datos efectivo en NumPy, llevando tus capacidades de programación al siguiente nivel. ¡Empecemos!"
   ]
  },
  {
   "cell_type": "code",
   "execution_count": 1,
   "id": "7cfa3494",
   "metadata": {},
   "outputs": [],
   "source": [
    "import numpy as np"
   ]
  },
  {
   "cell_type": "code",
   "execution_count": 2,
   "id": "7261dbbe",
   "metadata": {},
   "outputs": [
    {
     "data": {
      "text/plain": [
       "array([[0., 0., 0.],\n",
       "       [0., 0., 0.],\n",
       "       [0., 0., 0.]])"
      ]
     },
     "execution_count": 2,
     "metadata": {},
     "output_type": "execute_result"
    }
   ],
   "source": [
    "np.zeros((3,3))"
   ]
  },
  {
   "cell_type": "code",
   "execution_count": 3,
   "id": "e54badc2",
   "metadata": {},
   "outputs": [
    {
     "data": {
      "text/plain": [
       "array([[1., 1., 1., 1., 1.],\n",
       "       [1., 1., 1., 1., 1.],\n",
       "       [1., 1., 1., 1., 1.],\n",
       "       [1., 1., 1., 1., 1.],\n",
       "       [1., 1., 1., 1., 1.]])"
      ]
     },
     "execution_count": 3,
     "metadata": {},
     "output_type": "execute_result"
    }
   ],
   "source": [
    "np.ones((5,5))"
   ]
  },
  {
   "cell_type": "code",
   "execution_count": 4,
   "id": "f66a4c78",
   "metadata": {},
   "outputs": [
    {
     "data": {
      "text/plain": [
       "array([[1., 0., 0., 0., 0.],\n",
       "       [0., 1., 0., 0., 0.],\n",
       "       [0., 0., 1., 0., 0.],\n",
       "       [0., 0., 0., 1., 0.],\n",
       "       [0., 0., 0., 0., 1.]])"
      ]
     },
     "execution_count": 4,
     "metadata": {},
     "output_type": "execute_result"
    }
   ],
   "source": [
    "np.eye(5)"
   ]
  },
  {
   "cell_type": "code",
   "execution_count": 5,
   "id": "4fc7e191",
   "metadata": {},
   "outputs": [
    {
     "data": {
      "text/plain": [
       "array([[1., 0., 0., 0., 0.],\n",
       "       [0., 1., 0., 0., 0.],\n",
       "       [0., 0., 1., 0., 0.],\n",
       "       [0., 0., 0., 1., 0.],\n",
       "       [0., 0., 0., 0., 1.]])"
      ]
     },
     "execution_count": 5,
     "metadata": {},
     "output_type": "execute_result"
    }
   ],
   "source": [
    "np.identity(5)"
   ]
  },
  {
   "cell_type": "code",
   "execution_count": 6,
   "id": "16c502b4",
   "metadata": {},
   "outputs": [
    {
     "data": {
      "text/plain": [
       "array([[-10, -10, -10],\n",
       "       [-10, -10, -10],\n",
       "       [-10, -10, -10]])"
      ]
     },
     "execution_count": 6,
     "metadata": {},
     "output_type": "execute_result"
    }
   ],
   "source": [
    "np.full((3,3),-10)"
   ]
  },
  {
   "cell_type": "code",
   "execution_count": 7,
   "id": "267d6f92",
   "metadata": {},
   "outputs": [
    {
     "data": {
      "text/plain": [
       "array([[0.20019819, 0.26774823, 0.5968878 ],\n",
       "       [0.3274227 , 0.09136412, 0.51176598],\n",
       "       [0.71619371, 0.37696918, 0.55026843]])"
      ]
     },
     "execution_count": 7,
     "metadata": {},
     "output_type": "execute_result"
    }
   ],
   "source": [
    "np.random.rand(3,3)"
   ]
  },
  {
   "cell_type": "code",
   "execution_count": 8,
   "id": "13928b7e",
   "metadata": {},
   "outputs": [
    {
     "data": {
      "text/plain": [
       "array([[2, 6, 1, 7, 3, 4, 1, 1, 9, 9],\n",
       "       [0, 2, 1, 2, 0, 5, 7, 0, 9, 2],\n",
       "       [0, 2, 3, 0, 9, 4, 1, 7, 5, 2],\n",
       "       [9, 8, 6, 9, 5, 2, 4, 2, 2, 8],\n",
       "       [2, 0, 4, 2, 3, 4, 5, 4, 5, 8],\n",
       "       [3, 3, 2, 7, 9, 1, 9, 0, 2, 2],\n",
       "       [8, 6, 4, 5, 5, 0, 1, 7, 8, 6],\n",
       "       [0, 1, 3, 8, 0, 9, 1, 8, 5, 3],\n",
       "       [7, 5, 8, 8, 0, 5, 0, 5, 0, 6],\n",
       "       [9, 3, 8, 3, 9, 3, 5, 0, 0, 9]])"
      ]
     },
     "execution_count": 8,
     "metadata": {},
     "output_type": "execute_result"
    }
   ],
   "source": [
    "np.random.randint(0,10,(10,10))"
   ]
  },
  {
   "cell_type": "markdown",
   "id": "2e7fcfb7",
   "metadata": {},
   "source": [
    "# Suma"
   ]
  },
  {
   "cell_type": "code",
   "execution_count": 9,
   "id": "bc54769d",
   "metadata": {},
   "outputs": [
    {
     "data": {
      "text/plain": [
       "array([[1., 1., 1.],\n",
       "       [1., 1., 1.],\n",
       "       [1., 1., 1.]])"
      ]
     },
     "execution_count": 9,
     "metadata": {},
     "output_type": "execute_result"
    }
   ],
   "source": [
    "unos = np.ones((3,3))\n",
    "unos"
   ]
  },
  {
   "cell_type": "code",
   "execution_count": 10,
   "id": "b38380f6",
   "metadata": {},
   "outputs": [
    {
     "data": {
      "text/plain": [
       "array([[1, 1, 1],\n",
       "       [1, 0, 1],\n",
       "       [2, 0, 0]])"
      ]
     },
     "execution_count": 10,
     "metadata": {},
     "output_type": "execute_result"
    }
   ],
   "source": [
    "azar = np.random.randint(0,3,(3,3))\n",
    "azar"
   ]
  },
  {
   "cell_type": "code",
   "execution_count": 11,
   "id": "088af5e8",
   "metadata": {},
   "outputs": [
    {
     "data": {
      "text/plain": [
       "(3, 3)"
      ]
     },
     "execution_count": 11,
     "metadata": {},
     "output_type": "execute_result"
    }
   ],
   "source": [
    "unos.shape"
   ]
  },
  {
   "cell_type": "code",
   "execution_count": 12,
   "id": "7662246c",
   "metadata": {},
   "outputs": [
    {
     "data": {
      "text/plain": [
       "(3, 3)"
      ]
     },
     "execution_count": 12,
     "metadata": {},
     "output_type": "execute_result"
    }
   ],
   "source": [
    "azar.shape"
   ]
  },
  {
   "cell_type": "code",
   "execution_count": 13,
   "id": "004c9f30",
   "metadata": {},
   "outputs": [
    {
     "data": {
      "text/plain": [
       "array([[2., 2., 2.],\n",
       "       [2., 1., 2.],\n",
       "       [3., 1., 1.]])"
      ]
     },
     "execution_count": 13,
     "metadata": {},
     "output_type": "execute_result"
    }
   ],
   "source": [
    "unos + azar"
   ]
  },
  {
   "cell_type": "code",
   "execution_count": 14,
   "id": "0eb0406d",
   "metadata": {},
   "outputs": [
    {
     "data": {
      "text/plain": [
       "array([[1., 1., 1.],\n",
       "       [1., 0., 1.],\n",
       "       [2., 0., 0.]])"
      ]
     },
     "execution_count": 14,
     "metadata": {},
     "output_type": "execute_result"
    }
   ],
   "source": [
    "unos * azar"
   ]
  },
  {
   "cell_type": "code",
   "execution_count": 15,
   "id": "79f6ac9d",
   "metadata": {},
   "outputs": [
    {
     "name": "stderr",
     "output_type": "stream",
     "text": [
      "/var/folders/5r/jn_g7h3n0pv3v9fbjgr05h8w0000gn/T/ipykernel_50648/2903940513.py:1: RuntimeWarning: divide by zero encountered in divide\n",
      "  unos/azar\n"
     ]
    },
    {
     "data": {
      "text/plain": [
       "array([[1. , 1. , 1. ],\n",
       "       [1. , inf, 1. ],\n",
       "       [0.5, inf, inf]])"
      ]
     },
     "execution_count": 15,
     "metadata": {},
     "output_type": "execute_result"
    }
   ],
   "source": [
    "unos/azar"
   ]
  },
  {
   "cell_type": "code",
   "execution_count": 16,
   "id": "51bdd424",
   "metadata": {},
   "outputs": [
    {
     "data": {
      "text/plain": [
       "array([[3., 3., 3.],\n",
       "       [3., 3., 3.],\n",
       "       [3., 3., 3.]])"
      ]
     },
     "execution_count": 16,
     "metadata": {},
     "output_type": "execute_result"
    }
   ],
   "source": [
    "unos += 2\n",
    "unos"
   ]
  },
  {
   "cell_type": "code",
   "execution_count": 17,
   "id": "5c6636cb",
   "metadata": {},
   "outputs": [
    {
     "data": {
      "text/plain": [
       "array([[1, 1, 1],\n",
       "       [1, 0, 1],\n",
       "       [4, 0, 0]])"
      ]
     },
     "execution_count": 17,
     "metadata": {},
     "output_type": "execute_result"
    }
   ],
   "source": [
    "azar *= azar\n",
    "azar"
   ]
  },
  {
   "cell_type": "markdown",
   "id": "c138b1ca",
   "metadata": {},
   "source": []
  },
  {
   "cell_type": "code",
   "execution_count": 18,
   "id": "99311236",
   "metadata": {},
   "outputs": [
    {
     "name": "stdout",
     "output_type": "stream",
     "text": [
      "24 24\n"
     ]
    }
   ],
   "source": [
    "a = np.array([1,2,3])\n",
    "b = np.array([4,4,4])\n",
    "print(np.dot(a,b), 4+8+12)"
   ]
  }
 ],
 "metadata": {
  "kernelspec": {
   "display_name": "Python 3 (ipykernel)",
   "language": "python",
   "name": "python3"
  },
  "language_info": {
   "codemirror_mode": {
    "name": "ipython",
    "version": 3
   },
   "file_extension": ".py",
   "mimetype": "text/x-python",
   "name": "python",
   "nbconvert_exporter": "python",
   "pygments_lexer": "ipython3",
   "version": "3.9.10"
  }
 },
 "nbformat": 4,
 "nbformat_minor": 5
}
