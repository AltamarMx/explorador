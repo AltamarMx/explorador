{
 "cells": [
  {
   "cell_type": "markdown",
   "id": "5eb49c8f",
   "metadata": {},
   "source": [
    "# Atributos y propiedades de arrays\n",
    "\n",
    "¡Bienvenides a esta sesión dedicada a explorar tres atributos fundamentales de los arreglos en NumPy! Hoy nos sumergiremos en los conceptos de **ndim**, **shape** y **size**, que son esenciales para comprender la estructura y las dimensiones de los arreglos en NumPy. \n",
    "\n",
    "El atributo *ndim* revela el número de dimensiones de un arreglo. Comprender este aspecto es fundamental para visualizar la complejidad de tus datos y prepararte para operaciones más avanzadas, *shape*, por su parte, te proporciona la forma exacta del arreglo, detallando el tamaño de cada dimensión, *size* te indica el total de elementos dentro del arreglo. Conocer este dato te permite estimar la magnitud de los cálculos y la memoria necesaria para tus operaciones.\n",
    "\n",
    "Aprenderás a distinguir entre la cantidad de dimensiones, la forma o estructura y el tamaño total de tus datos, permitiéndote manejarlos con mayor precisión y eficiencia. Con esta comprensión, podrás manejar tus datos con una precisión y eficiencia sin precedentes, aprovechando al máximo las capacidades de esta poderosa biblioteca."
   ]
  },
  {
   "cell_type": "code",
   "execution_count": 1,
   "id": "ee3a86c2",
   "metadata": {},
   "outputs": [],
   "source": [
    "import numpy as np"
   ]
  },
  {
   "cell_type": "code",
   "execution_count": 2,
   "id": "8f472e13",
   "metadata": {},
   "outputs": [
    {
     "data": {
      "text/plain": [
       "array([[1.        , 0.891773  , 0.96366276, 0.38344152, 0.79172504,\n",
       "        0.52889492, 0.56804456, 0.92559664, 0.07103606, 0.0871293 ],\n",
       "       [0.0202184 , 1.        , 0.77815675, 0.87001215, 0.97861834,\n",
       "        0.79915856, 0.46147936, 0.78052918, 0.11827443, 0.63992102],\n",
       "       [0.14335329, 0.94466892, 1.        , 0.41466194, 0.26455561,\n",
       "        0.77423369, 0.45615033, 0.56843395, 0.0187898 , 0.6176355 ],\n",
       "       [0.61209572, 0.616934  , 0.94374808, 1.        , 0.3595079 ,\n",
       "        0.43703195, 0.6976312 , 0.06022547, 0.66676672, 0.67063787],\n",
       "       [0.21038256, 0.1289263 , 0.31542835, 0.36371077, 1.        ,\n",
       "        0.43860151, 0.98837384, 0.10204481, 0.20887676, 0.16130952],\n",
       "       [0.65310833, 0.2532916 , 0.46631077, 0.24442559, 0.15896958,\n",
       "        1.        , 0.65632959, 0.13818295, 0.19658236, 0.36872517],\n",
       "       [0.82099323, 0.09710128, 0.83794491, 0.09609841, 0.97645947,\n",
       "        0.4686512 , 1.        , 0.60484552, 0.73926358, 0.03918779],\n",
       "       [0.28280696, 0.12019656, 0.2961402 , 0.11872772, 0.31798318,\n",
       "        0.41426299, 0.0641475 , 1.        , 0.56660145, 0.26538949],\n",
       "       [0.52324805, 0.09394051, 0.5759465 , 0.9292962 , 0.31856895,\n",
       "        0.66741038, 0.13179786, 0.7163272 , 1.        , 0.18319136],\n",
       "       [0.58651293, 0.02010755, 0.82894003, 0.00469548, 0.67781654,\n",
       "        0.27000797, 0.73519402, 0.96218855, 0.24875314, 1.        ]])"
      ]
     },
     "execution_count": 2,
     "metadata": {},
     "output_type": "execute_result"
    }
   ],
   "source": [
    "f = '../data/matriz10x10.txt'\n",
    "m = np.loadtxt(f)\n",
    "m"
   ]
  },
  {
   "cell_type": "code",
   "execution_count": 3,
   "id": "dd135f66",
   "metadata": {},
   "outputs": [
    {
     "data": {
      "text/plain": [
       "numpy.ndarray"
      ]
     },
     "execution_count": 3,
     "metadata": {},
     "output_type": "execute_result"
    }
   ],
   "source": [
    "type(m)"
   ]
  },
  {
   "cell_type": "code",
   "execution_count": 10,
   "id": "60cb5153",
   "metadata": {
    "scrolled": true
   },
   "outputs": [
    {
     "data": {
      "text/plain": [
       "dtype('float64')"
      ]
     },
     "execution_count": 10,
     "metadata": {},
     "output_type": "execute_result"
    }
   ],
   "source": [
    "m.dtype"
   ]
  },
  {
   "cell_type": "code",
   "execution_count": 7,
   "id": "c99d4482",
   "metadata": {},
   "outputs": [
    {
     "data": {
      "text/plain": [
       "2"
      ]
     },
     "execution_count": 7,
     "metadata": {},
     "output_type": "execute_result"
    }
   ],
   "source": [
    "m.ndim"
   ]
  },
  {
   "cell_type": "code",
   "execution_count": 8,
   "id": "1c95db3d",
   "metadata": {},
   "outputs": [
    {
     "data": {
      "text/plain": [
       "(10, 10)"
      ]
     },
     "execution_count": 8,
     "metadata": {},
     "output_type": "execute_result"
    }
   ],
   "source": [
    "m.shape"
   ]
  },
  {
   "cell_type": "code",
   "execution_count": 9,
   "id": "27326fa2",
   "metadata": {},
   "outputs": [
    {
     "data": {
      "text/plain": [
       "100"
      ]
     },
     "execution_count": 9,
     "metadata": {},
     "output_type": "execute_result"
    }
   ],
   "source": [
    "m.size"
   ]
  },
  {
   "cell_type": "code",
   "execution_count": null,
   "id": "66371c67",
   "metadata": {},
   "outputs": [],
   "source": []
  }
 ],
 "metadata": {
  "kernelspec": {
   "display_name": "Python 3 (ipykernel)",
   "language": "python",
   "name": "python3"
  },
  "language_info": {
   "codemirror_mode": {
    "name": "ipython",
    "version": 3
   },
   "file_extension": ".py",
   "mimetype": "text/x-python",
   "name": "python",
   "nbconvert_exporter": "python",
   "pygments_lexer": "ipython3",
   "version": "3.9.10"
  }
 },
 "nbformat": 4,
 "nbformat_minor": 5
}
