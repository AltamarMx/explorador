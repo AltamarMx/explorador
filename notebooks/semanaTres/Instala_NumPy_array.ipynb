{
 "cells": [
  {
   "cell_type": "markdown",
   "id": "1425425b",
   "metadata": {},
   "source": [
    "# Introducción a NumPy y arrays\n",
    "\n",
    "¿Listes para explorar NumPy? La biblioteca esencial de Python que ha revolucionado el análisis y la manipulación de datos numéricos. \n",
    "\n",
    "Desde la creación de arrays hasta la optimización de operaciones numéricas, exploraremos cada rincón de NumPy. Te guiaremos desde los fundamentos, como la definición de arrays, hasta las técnicas avanzadas que te permitirán realizar operaciones matemáticas y estadísticas con una eficiencia sin precedentes.\n",
    "\n",
    "A medida que nos sumergimos en las profundidades de NumPy, descubrirás cómo los arrays y las herramientas avanzadas pueden potenciar tu análisis de datos, llevándolo a un nivel más alto. Configura tu entorno Python y acompáñanos en este viaje hacia el dominio total de NumPy, donde cada función y método abre un nuevo camino hacia el conocimiento en la ciencia de datos."
   ]
  },
  {
   "cell_type": "code",
   "execution_count": 1,
   "id": "ff2dc69f",
   "metadata": {},
   "outputs": [],
   "source": [
    "import numpy as np"
   ]
  },
  {
   "cell_type": "code",
   "execution_count": 2,
   "id": "537abde1",
   "metadata": {},
   "outputs": [
    {
     "name": "stdout",
     "output_type": "stream",
     "text": [
      "Requirement already satisfied: numpy in /Users/gbv/virtualenvs/alldays/alldays/lib/python3.10/site-packages (1.24.2)\n",
      "\n",
      "\u001b[1m[\u001b[0m\u001b[34;49mnotice\u001b[0m\u001b[1;39;49m]\u001b[0m\u001b[39;49m A new release of pip is available: \u001b[0m\u001b[31;49m23.1.2\u001b[0m\u001b[39;49m -> \u001b[0m\u001b[32;49m23.3.2\u001b[0m\n",
      "\u001b[1m[\u001b[0m\u001b[34;49mnotice\u001b[0m\u001b[1;39;49m]\u001b[0m\u001b[39;49m To update, run: \u001b[0m\u001b[32;49mpip install --upgrade pip\u001b[0m\n",
      "Note: you may need to restart the kernel to use updated packages.\n"
     ]
    }
   ],
   "source": [
    "pip install numpy"
   ]
  },
  {
   "cell_type": "code",
   "execution_count": null,
   "id": "09261f1f",
   "metadata": {},
   "outputs": [],
   "source": [
    "pip install numpy --upgrade"
   ]
  },
  {
   "cell_type": "code",
   "execution_count": 3,
   "id": "bdfd9a3f",
   "metadata": {
    "scrolled": true
   },
   "outputs": [
    {
     "data": {
      "text/plain": [
       "'1.24.2'"
      ]
     },
     "execution_count": 3,
     "metadata": {},
     "output_type": "execute_result"
    }
   ],
   "source": [
    "np.__version__"
   ]
  },
  {
   "cell_type": "markdown",
   "id": "d04200d9",
   "metadata": {},
   "source": [
    "[numpy.org](https://numpy.org)"
   ]
  },
  {
   "cell_type": "code",
   "execution_count": 7,
   "id": "90dd6533",
   "metadata": {},
   "outputs": [],
   "source": [
    "a1 = np.array([1])"
   ]
  },
  {
   "cell_type": "code",
   "execution_count": 8,
   "id": "94c545c2",
   "metadata": {},
   "outputs": [
    {
     "data": {
      "text/plain": [
       "numpy.ndarray"
      ]
     },
     "execution_count": 8,
     "metadata": {},
     "output_type": "execute_result"
    }
   ],
   "source": [
    "type(a1)"
   ]
  },
  {
   "cell_type": "code",
   "execution_count": 9,
   "id": "90102f35",
   "metadata": {},
   "outputs": [],
   "source": [
    "a2 = np.array([2])"
   ]
  },
  {
   "cell_type": "code",
   "execution_count": 10,
   "id": "11510df6",
   "metadata": {},
   "outputs": [
    {
     "data": {
      "text/plain": [
       "array([3])"
      ]
     },
     "execution_count": 10,
     "metadata": {},
     "output_type": "execute_result"
    }
   ],
   "source": [
    "a1+a2"
   ]
  },
  {
   "cell_type": "code",
   "execution_count": 11,
   "id": "36b68763",
   "metadata": {},
   "outputs": [
    {
     "data": {
      "text/plain": [
       "array([2])"
      ]
     },
     "execution_count": 11,
     "metadata": {},
     "output_type": "execute_result"
    }
   ],
   "source": [
    "a1*a2"
   ]
  },
  {
   "cell_type": "code",
   "execution_count": 13,
   "id": "070e8328",
   "metadata": {},
   "outputs": [
    {
     "data": {
      "text/plain": [
       "array([2])"
      ]
     },
     "execution_count": 13,
     "metadata": {},
     "output_type": "execute_result"
    }
   ],
   "source": [
    "a2**a1"
   ]
  },
  {
   "cell_type": "code",
   "execution_count": 15,
   "id": "9d74072d",
   "metadata": {},
   "outputs": [
    {
     "data": {
      "text/plain": [
       "array([1, 2, 3])"
      ]
     },
     "execution_count": 15,
     "metadata": {},
     "output_type": "execute_result"
    }
   ],
   "source": [
    "a3 = np.array([1,2,3])\n",
    "a3"
   ]
  },
  {
   "cell_type": "code",
   "execution_count": 19,
   "id": "e4f20d6f",
   "metadata": {},
   "outputs": [
    {
     "data": {
      "text/plain": [
       "array([[1, 2, 3],\n",
       "       [4, 5, 6]])"
      ]
     },
     "execution_count": 19,
     "metadata": {},
     "output_type": "execute_result"
    }
   ],
   "source": [
    "a4 = np.array(\n",
    "    [\n",
    "        [1,2,3],\n",
    "        [4,5,6]\n",
    "    ]\n",
    ")\n",
    "a4"
   ]
  },
  {
   "cell_type": "code",
   "execution_count": 20,
   "id": "fd59fb36",
   "metadata": {},
   "outputs": [
    {
     "data": {
      "text/plain": [
       "array([[1, 2, 3],\n",
       "       [4, 5, 6],\n",
       "       [7, 8, 9]])"
      ]
     },
     "execution_count": 20,
     "metadata": {},
     "output_type": "execute_result"
    }
   ],
   "source": [
    "lista = [\n",
    "    [1,2,3],\n",
    "    [4,5,6],\n",
    "    [7,8,9]\n",
    "]\n",
    "np.array(lista)"
   ]
  },
  {
   "cell_type": "code",
   "execution_count": 23,
   "id": "501f4d78",
   "metadata": {},
   "outputs": [
    {
     "data": {
      "text/plain": [
       "array([[1, 2, 3],\n",
       "       [4, 5, 6],\n",
       "       [7, 8, 9]])"
      ]
     },
     "execution_count": 23,
     "metadata": {},
     "output_type": "execute_result"
    }
   ],
   "source": [
    "lista = [[1,2,3],[4,5,6],[7,8,9]] # 3 listas en una lista\n",
    "np.array(lista)"
   ]
  },
  {
   "cell_type": "code",
   "execution_count": null,
   "id": "29a6c7f3",
   "metadata": {},
   "outputs": [],
   "source": []
  }
 ],
 "metadata": {
  "kernelspec": {
   "display_name": "Python 3 (ipykernel)",
   "language": "python",
   "name": "python3"
  },
  "language_info": {
   "codemirror_mode": {
    "name": "ipython",
    "version": 3
   },
   "file_extension": ".py",
   "mimetype": "text/x-python",
   "name": "python",
   "nbconvert_exporter": "python",
   "pygments_lexer": "ipython3",
   "version": "3.9.10"
  }
 },
 "nbformat": 4,
 "nbformat_minor": 5
}
