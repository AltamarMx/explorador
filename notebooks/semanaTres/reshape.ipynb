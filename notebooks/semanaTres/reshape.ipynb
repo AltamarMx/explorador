{
 "cells": [
  {
   "cell_type": "markdown",
   "id": "1500c2e8",
   "metadata": {},
   "source": [
    "# Manipulación de los arreglos de NumPy\n",
    "\n",
    "En esta sección veremos cómo las funciones reshape y resize pueden transformar tus arreglos. Con reshape, aprenderás a reorganizar los elementos de tus arreglos manteniendo la misma cantidad de datos, permitiéndote moldearlos en nuevas formas sin perder información. Por otro lado, resize te da la flexibilidad de ajustar el tamaño de tus arreglos, expandiéndolos o recortándolos según sea necesario para adaptarse a tus requerimientos.\n",
    "\n",
    "A medida que avances, entenderás no solo cómo utilizar estas herramientas, sino también cuándo es apropiado aplicar cada una. Esto te permitirá optimizar tu código y lograr una representación de datos que se alinee perfectamente con tus objetivos analíticos. Al concluir, tendrás un conocimiento profundo de las ventajas y limitaciones de reshape y resize, y estarás capacitado para seleccionar la opción más efectiva para la transformación de tus arreglos en NumPy, de acuerdo a tus necesidades específicas."
   ]
  },
  {
   "cell_type": "code",
   "execution_count": 1,
   "id": "b9ede5b9",
   "metadata": {},
   "outputs": [],
   "source": [
    "import numpy as np"
   ]
  },
  {
   "cell_type": "code",
   "execution_count": 2,
   "id": "9d20e722",
   "metadata": {},
   "outputs": [
    {
     "data": {
      "text/plain": [
       "array([ 0,  1,  2,  3,  4,  5,  6,  7,  8,  9, 10, 11, 12, 13, 14])"
      ]
     },
     "execution_count": 2,
     "metadata": {},
     "output_type": "execute_result"
    }
   ],
   "source": [
    "m = np.arange(15)\n",
    "m"
   ]
  },
  {
   "cell_type": "code",
   "execution_count": 3,
   "id": "8e9a17e1",
   "metadata": {
    "scrolled": true
   },
   "outputs": [
    {
     "data": {
      "text/plain": [
       "array([[ 0,  1,  2,  3,  4],\n",
       "       [ 5,  6,  7,  8,  9],\n",
       "       [10, 11, 12, 13, 14]])"
      ]
     },
     "execution_count": 3,
     "metadata": {},
     "output_type": "execute_result"
    }
   ],
   "source": [
    "m.reshape(3,5)"
   ]
  },
  {
   "cell_type": "code",
   "execution_count": 4,
   "id": "3ee23f9a",
   "metadata": {
    "scrolled": true
   },
   "outputs": [
    {
     "data": {
      "text/plain": [
       "array([[ 0,  1,  2],\n",
       "       [ 3,  4,  5],\n",
       "       [ 6,  7,  8],\n",
       "       [ 9, 10, 11],\n",
       "       [12, 13, 14]])"
      ]
     },
     "execution_count": 4,
     "metadata": {},
     "output_type": "execute_result"
    }
   ],
   "source": [
    "m.reshape(5,3)"
   ]
  },
  {
   "cell_type": "code",
   "execution_count": 10,
   "id": "f4b43c07",
   "metadata": {
    "scrolled": true
   },
   "outputs": [
    {
     "data": {
      "text/plain": [
       "array([[ 0,  1,  2],\n",
       "       [ 3,  4,  5],\n",
       "       [ 6,  7,  8],\n",
       "       [ 9, 10, 11],\n",
       "       [12, 13, 14]])"
      ]
     },
     "execution_count": 10,
     "metadata": {},
     "output_type": "execute_result"
    }
   ],
   "source": [
    "m.reshape(5,-1)"
   ]
  },
  {
   "cell_type": "code",
   "execution_count": 11,
   "id": "2afaae80",
   "metadata": {
    "scrolled": true
   },
   "outputs": [
    {
     "data": {
      "text/plain": [
       "array([[ 0,  1,  2,  3,  4],\n",
       "       [ 5,  6,  7,  8,  9],\n",
       "       [10, 11, 12, 13, 14]])"
      ]
     },
     "execution_count": 11,
     "metadata": {},
     "output_type": "execute_result"
    }
   ],
   "source": [
    "m.reshape(-1,5)"
   ]
  },
  {
   "cell_type": "code",
   "execution_count": 15,
   "id": "8ef351be",
   "metadata": {
    "scrolled": true
   },
   "outputs": [
    {
     "data": {
      "text/plain": [
       "array([[8, 6, 6],\n",
       "       [2, 6, 0],\n",
       "       [1, 3, 7]])"
      ]
     },
     "execution_count": 15,
     "metadata": {},
     "output_type": "execute_result"
    }
   ],
   "source": [
    "m  = np.random.randint(0,10,(3,3))\n",
    "m"
   ]
  },
  {
   "cell_type": "code",
   "execution_count": 16,
   "id": "8519e6a7",
   "metadata": {},
   "outputs": [
    {
     "data": {
      "text/plain": [
       "array([8, 6, 6, 2, 6, 0, 1, 3, 7])"
      ]
     },
     "execution_count": 16,
     "metadata": {},
     "output_type": "execute_result"
    }
   ],
   "source": [
    "m.reshape(-1)"
   ]
  },
  {
   "cell_type": "code",
   "execution_count": 17,
   "id": "6af8e166",
   "metadata": {},
   "outputs": [
    {
     "data": {
      "text/plain": [
       "array([[[0.28855083, 0.4448362 , 0.61105639],\n",
       "        [0.7594402 , 0.14146844, 0.8413415 ],\n",
       "        [0.35300805, 0.2530599 , 0.84439888],\n",
       "        ...,\n",
       "        [0.32595989, 0.1228926 , 0.6839925 ],\n",
       "        [0.99648953, 0.73259549, 0.98159695],\n",
       "        [0.03416891, 0.11546777, 0.11983525]],\n",
       "\n",
       "       [[0.64285516, 0.65874085, 0.79734002],\n",
       "        [0.19508675, 0.16462806, 0.18633474],\n",
       "        [0.0213286 , 0.180198  , 0.00407577],\n",
       "        ...,\n",
       "        [0.42301049, 0.19846789, 0.24196548],\n",
       "        [0.67581364, 0.20125892, 0.57831096],\n",
       "        [0.44928922, 0.56309199, 0.20275227]],\n",
       "\n",
       "       [[0.48089054, 0.41006477, 0.05447949],\n",
       "        [0.17197034, 0.05339118, 0.94235308],\n",
       "        [0.28689647, 0.03073413, 0.70833623],\n",
       "        ...,\n",
       "        [0.66505441, 0.96197757, 0.62658938],\n",
       "        [0.77754461, 0.92295048, 0.93346172],\n",
       "        [0.08562233, 0.76890425, 0.40244845]],\n",
       "\n",
       "       ...,\n",
       "\n",
       "       [[0.92479111, 0.77157321, 0.52865719],\n",
       "        [0.34680017, 0.72931384, 0.16745821],\n",
       "        [0.12111133, 0.63877138, 0.66058845],\n",
       "        ...,\n",
       "        [0.76397128, 0.10724926, 0.5506581 ],\n",
       "        [0.62667808, 0.07396894, 0.75998114],\n",
       "        [0.57473675, 0.32789345, 0.97001736]],\n",
       "\n",
       "       [[0.788409  , 0.04008978, 0.21338734],\n",
       "        [0.3717173 , 0.31905299, 0.73703158],\n",
       "        [0.70945426, 0.66603974, 0.33342862],\n",
       "        ...,\n",
       "        [0.09352969, 0.66174332, 0.52223439],\n",
       "        [0.5786852 , 0.54348558, 0.40490288],\n",
       "        [0.97791061, 0.34607812, 0.07059512]],\n",
       "\n",
       "       [[0.58027651, 0.66815292, 0.38162642],\n",
       "        [0.89692248, 0.98783247, 0.47255848],\n",
       "        [0.46729736, 0.34451034, 0.9494893 ],\n",
       "        ...,\n",
       "        [0.99408918, 0.22895271, 0.15976376],\n",
       "        [0.56130945, 0.44999871, 0.23311172],\n",
       "        [0.80387757, 0.4984976 , 0.25365452]]])"
      ]
     },
     "execution_count": 17,
     "metadata": {},
     "output_type": "execute_result"
    }
   ],
   "source": [
    "m = np.random.rand(100, 100, 3)\n",
    "m"
   ]
  },
  {
   "cell_type": "code",
   "execution_count": 19,
   "id": "60101dca",
   "metadata": {},
   "outputs": [
    {
     "data": {
      "text/plain": [
       "(10000, 3)"
      ]
     },
     "execution_count": 19,
     "metadata": {},
     "output_type": "execute_result"
    }
   ],
   "source": [
    "n = m.reshape(-1,3)\n",
    "n.shape"
   ]
  },
  {
   "cell_type": "code",
   "execution_count": 5,
   "id": "023b3938",
   "metadata": {},
   "outputs": [
    {
     "ename": "ValueError",
     "evalue": "cannot reshape array of size 15 into shape (10,2)",
     "output_type": "error",
     "traceback": [
      "\u001b[0;31m---------------------------------------------------------------------------\u001b[0m",
      "\u001b[0;31mValueError\u001b[0m                                Traceback (most recent call last)",
      "Cell \u001b[0;32mIn[5], line 1\u001b[0m\n\u001b[0;32m----> 1\u001b[0m \u001b[43mm\u001b[49m\u001b[38;5;241;43m.\u001b[39;49m\u001b[43mreshape\u001b[49m\u001b[43m(\u001b[49m\u001b[38;5;241;43m10\u001b[39;49m\u001b[43m,\u001b[49m\u001b[38;5;241;43m2\u001b[39;49m\u001b[43m)\u001b[49m\n",
      "\u001b[0;31mValueError\u001b[0m: cannot reshape array of size 15 into shape (10,2)"
     ]
    }
   ],
   "source": [
    "m.reshape(10,2)"
   ]
  },
  {
   "cell_type": "code",
   "execution_count": 6,
   "id": "c7da88de",
   "metadata": {},
   "outputs": [
    {
     "ename": "ValueError",
     "evalue": "cannot resize an array that references or is referenced\nby another array in this way.\nUse the np.resize function or refcheck=False",
     "output_type": "error",
     "traceback": [
      "\u001b[0;31m---------------------------------------------------------------------------\u001b[0m",
      "\u001b[0;31mValueError\u001b[0m                                Traceback (most recent call last)",
      "Cell \u001b[0;32mIn[6], line 1\u001b[0m\n\u001b[0;32m----> 1\u001b[0m \u001b[43mm\u001b[49m\u001b[38;5;241;43m.\u001b[39;49m\u001b[43mresize\u001b[49m\u001b[43m(\u001b[49m\u001b[38;5;241;43m10\u001b[39;49m\u001b[43m,\u001b[49m\u001b[38;5;241;43m2\u001b[39;49m\u001b[43m)\u001b[49m\n",
      "\u001b[0;31mValueError\u001b[0m: cannot resize an array that references or is referenced\nby another array in this way.\nUse the np.resize function or refcheck=False"
     ]
    }
   ],
   "source": [
    "m.resize(10,2)"
   ]
  },
  {
   "cell_type": "code",
   "execution_count": 7,
   "id": "2caf1940",
   "metadata": {},
   "outputs": [
    {
     "data": {
      "text/plain": [
       "array([[ 0,  1],\n",
       "       [ 2,  3],\n",
       "       [ 4,  5],\n",
       "       [ 6,  7],\n",
       "       [ 8,  9],\n",
       "       [10, 11],\n",
       "       [12, 13],\n",
       "       [14,  0],\n",
       "       [ 1,  2],\n",
       "       [ 3,  4]])"
      ]
     },
     "execution_count": 7,
     "metadata": {},
     "output_type": "execute_result"
    }
   ],
   "source": [
    "np.resize(m,(10,2))"
   ]
  },
  {
   "cell_type": "code",
   "execution_count": null,
   "id": "f034135c",
   "metadata": {},
   "outputs": [],
   "source": [
    "m"
   ]
  }
 ],
 "metadata": {
  "kernelspec": {
   "display_name": "Python 3 (ipykernel)",
   "language": "python",
   "name": "python3"
  },
  "language_info": {
   "codemirror_mode": {
    "name": "ipython",
    "version": 3
   },
   "file_extension": ".py",
   "mimetype": "text/x-python",
   "name": "python",
   "nbconvert_exporter": "python",
   "pygments_lexer": "ipython3",
   "version": "3.9.10"
  }
 },
 "nbformat": 4,
 "nbformat_minor": 5
}
