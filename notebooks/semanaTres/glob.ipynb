{
 "cells": [
  {
   "cell_type": "markdown",
   "id": "d82da186",
   "metadata": {},
   "source": [
    "# Manejo de multiples archivos con glob\n",
    "\n",
    "¡Bienvenide al mundo del listado de archivos eficiente con glob en Python! En esta sesión, te presentaremos el paquete **glob** como una herramienta poderosa para automatizar tareas que involucran el manejo de múltiples archivos y directorios. Aprenderás a utilizar patrones de coincidencia de caracteres, conocidos como \"wildcards\" o comodines, para seleccionar archivos específicos o grupos de archivos según tus necesidades. Descubrirás cómo glob te permite simplificar tu código, ahorrar tiempo y organizar tus datos de manera eficiente.\n"
   ]
  },
  {
   "cell_type": "code",
   "execution_count": 1,
   "id": "fe93fd0c",
   "metadata": {},
   "outputs": [],
   "source": [
    "import glob"
   ]
  },
  {
   "cell_type": "code",
   "execution_count": 2,
   "id": "91a980a7",
   "metadata": {},
   "outputs": [
    {
     "data": {
      "text/plain": [
       "['../data/matriz3x3_faltantes.txt',\n",
       " '../data/matriz10x10.txt',\n",
       " '../data/python.png',\n",
       " '../data/m10x10_int.txt',\n",
       " '../data/Cuernavaca_1dia_comas.csv',\n",
       " '../data/Cuernavaca_1dia_comas_Nans.csv',\n",
       " '../data/Cuernavaca_1dia_comas_duplicado.csv',\n",
       " '../data/Cuernavaca_To_1dia_comas.csv',\n",
       " '../data/Cuernavaca_To_1dia_comas.xlsx',\n",
       " '../data/obstacle2',\n",
       " '../data/Cuernavaca_1dia_comas_NULOS.csv',\n",
       " '../data/cuerna.epw',\n",
       " '../data/matriz3x3.txt',\n",
       " '../data/Cuernavaca_Enero_comas.csv',\n",
       " '../data/obstacle',\n",
       " '../data/matriz3x3_comment02.txt',\n",
       " '../data/matriz3x3_comment01.txt',\n",
       " '../data/Cuernavca_T1dia_tabulador.csv']"
      ]
     },
     "execution_count": 2,
     "metadata": {},
     "output_type": "execute_result"
    }
   ],
   "source": [
    "#Todos los archivos de un folder\n",
    "glob.glob(\"../data/*\")"
   ]
  },
  {
   "cell_type": "code",
   "execution_count": 3,
   "id": "086a6f99",
   "metadata": {},
   "outputs": [
    {
     "data": {
      "text/plain": [
       "['../data/Cuernavaca_1dia_comas.csv',\n",
       " '../data/Cuernavaca_1dia_comas_Nans.csv',\n",
       " '../data/Cuernavaca_1dia_comas_duplicado.csv',\n",
       " '../data/Cuernavaca_To_1dia_comas.csv',\n",
       " '../data/Cuernavaca_1dia_comas_NULOS.csv',\n",
       " '../data/Cuernavaca_Enero_comas.csv',\n",
       " '../data/Cuernavca_T1dia_tabulador.csv']"
      ]
     },
     "execution_count": 3,
     "metadata": {},
     "output_type": "execute_result"
    }
   ],
   "source": [
    "#Todos los archivos que terminen en csv\n",
    "glob.glob(\"../data/*.csv\")"
   ]
  },
  {
   "cell_type": "code",
   "execution_count": 4,
   "id": "d6cde607",
   "metadata": {},
   "outputs": [
    {
     "data": {
      "text/plain": [
       "['../data/Cuernavaca_1dia_comas.csv',\n",
       " '../data/Cuernavaca_1dia_comas_Nans.csv',\n",
       " '../data/Cuernavaca_1dia_comas_duplicado.csv',\n",
       " '../data/Cuernavaca_To_1dia_comas.csv',\n",
       " '../data/Cuernavaca_To_1dia_comas.xlsx',\n",
       " '../data/Cuernavaca_1dia_comas_NULOS.csv',\n",
       " '../data/Cuernavaca_Enero_comas.csv',\n",
       " '../data/Cuernavca_T1dia_tabulador.csv']"
      ]
     },
     "execution_count": 4,
     "metadata": {},
     "output_type": "execute_result"
    }
   ],
   "source": [
    "#Todos los archivos que empiecen con Cuerna\n",
    "glob.glob(\"../data/Cuerna*\")"
   ]
  },
  {
   "cell_type": "code",
   "execution_count": 5,
   "id": "601448a9",
   "metadata": {
    "scrolled": true
   },
   "outputs": [
    {
     "data": {
      "text/plain": [
       "['../data/Cuernavaca_1dia_comas.csv',\n",
       " '../data/Cuernavaca_1dia_comas_Nans.csv',\n",
       " '../data/Cuernavaca_1dia_comas_duplicado.csv',\n",
       " '../data/Cuernavaca_To_1dia_comas.csv',\n",
       " '../data/Cuernavaca_To_1dia_comas.xlsx',\n",
       " '../data/Cuernavaca_1dia_comas_NULOS.csv',\n",
       " '../data/cuerna.epw',\n",
       " '../data/Cuernavaca_Enero_comas.csv',\n",
       " '../data/Cuernavca_T1dia_tabulador.csv']"
      ]
     },
     "execution_count": 5,
     "metadata": {},
     "output_type": "execute_result"
    }
   ],
   "source": [
    "#Todos los archivos que tengan un primer caracter y luego uerna y cualquier terminacion\n",
    "glob.glob(\"../data/?uerna*\")"
   ]
  },
  {
   "cell_type": "code",
   "execution_count": 6,
   "id": "bac4fe94",
   "metadata": {
    "scrolled": true
   },
   "outputs": [
    {
     "data": {
      "text/plain": [
       "['../data/matriz3x3_faltantes.txt',\n",
       " '../data/matriz10x10.txt',\n",
       " '../data/python.png',\n",
       " '../data/m10x10_int.txt',\n",
       " '../data/Cuernavaca_1dia_comas.csv',\n",
       " '../data/Cuernavaca_1dia_comas_Nans.csv',\n",
       " '../data/Cuernavaca_1dia_comas_duplicado.csv',\n",
       " '../data/Cuernavaca_To_1dia_comas.csv',\n",
       " '../data/Cuernavaca_To_1dia_comas.xlsx',\n",
       " '../data/obstacle2',\n",
       " '../data/Cuernavaca_1dia_comas_NULOS.csv',\n",
       " '../data/cuerna.epw',\n",
       " '../data/matriz3x3.txt',\n",
       " '../data/Cuernavaca_Enero_comas.csv',\n",
       " '../data/obstacle',\n",
       " '../data/matriz3x3_comment02.txt',\n",
       " '../data/matriz3x3_comment01.txt',\n",
       " '../data/Cuernavca_T1dia_tabulador.csv',\n",
       " '../data/obstacle2/unica.png',\n",
       " '../data/obstacle/u_norm_183.png',\n",
       " '../data/obstacle/u_norm_182.png',\n",
       " '../data/obstacle/u_norm_180.png',\n",
       " '../data/obstacle/u_norm_181.png',\n",
       " '../data/obstacle/u_norm_185.png',\n",
       " '../data/obstacle/u_norm_191.png',\n",
       " '../data/obstacle/u_norm_190.png',\n",
       " '../data/obstacle/u_norm_184.png',\n",
       " '../data/obstacle/u_norm_192.png',\n",
       " '../data/obstacle/u_norm_186.png',\n",
       " '../data/obstacle/u_norm_179.png',\n",
       " '../data/obstacle/u_norm_178.png',\n",
       " '../data/obstacle/u_norm_187.png',\n",
       " '../data/obstacle/u_norm_175.png',\n",
       " '../data/obstacle/u_norm_174.png',\n",
       " '../data/obstacle/u_norm_189.png',\n",
       " '../data/obstacle/u_norm_176.png',\n",
       " '../data/obstacle/u_norm_177.png',\n",
       " '../data/obstacle/u_norm_188.png',\n",
       " '../data/obstacle/u_norm_173.png']"
      ]
     },
     "execution_count": 6,
     "metadata": {},
     "output_type": "execute_result"
    }
   ],
   "source": [
    "glob.glob('../data/**/*', recursive=True)\n"
   ]
  },
  {
   "cell_type": "code",
   "execution_count": 7,
   "id": "12e917da",
   "metadata": {},
   "outputs": [
    {
     "data": {
      "text/plain": [
       "['../data/obstacle2/unica.png',\n",
       " '../data/obstacle/u_norm_183.png',\n",
       " '../data/obstacle/u_norm_182.png',\n",
       " '../data/obstacle/u_norm_180.png',\n",
       " '../data/obstacle/u_norm_181.png',\n",
       " '../data/obstacle/u_norm_185.png',\n",
       " '../data/obstacle/u_norm_191.png',\n",
       " '../data/obstacle/u_norm_190.png',\n",
       " '../data/obstacle/u_norm_184.png',\n",
       " '../data/obstacle/u_norm_192.png',\n",
       " '../data/obstacle/u_norm_186.png',\n",
       " '../data/obstacle/u_norm_179.png',\n",
       " '../data/obstacle/u_norm_178.png',\n",
       " '../data/obstacle/u_norm_187.png',\n",
       " '../data/obstacle/u_norm_175.png',\n",
       " '../data/obstacle/u_norm_174.png',\n",
       " '../data/obstacle/u_norm_189.png',\n",
       " '../data/obstacle/u_norm_176.png',\n",
       " '../data/obstacle/u_norm_177.png',\n",
       " '../data/obstacle/u_norm_188.png',\n",
       " '../data/obstacle/u_norm_173.png']"
      ]
     },
     "execution_count": 7,
     "metadata": {},
     "output_type": "execute_result"
    }
   ],
   "source": [
    "glob.glob('../data/*/*', recursive=True)\n"
   ]
  },
  {
   "cell_type": "code",
   "execution_count": 8,
   "id": "a92e78b5",
   "metadata": {},
   "outputs": [
    {
     "data": {
      "text/plain": [
       "['../data/obstacle/u_norm_183.png',\n",
       " '../data/obstacle/u_norm_182.png',\n",
       " '../data/obstacle/u_norm_180.png',\n",
       " '../data/obstacle/u_norm_181.png',\n",
       " '../data/obstacle/u_norm_185.png',\n",
       " '../data/obstacle/u_norm_191.png',\n",
       " '../data/obstacle/u_norm_190.png',\n",
       " '../data/obstacle/u_norm_184.png',\n",
       " '../data/obstacle/u_norm_192.png',\n",
       " '../data/obstacle/u_norm_186.png',\n",
       " '../data/obstacle/u_norm_179.png',\n",
       " '../data/obstacle/u_norm_178.png',\n",
       " '../data/obstacle/u_norm_187.png',\n",
       " '../data/obstacle/u_norm_175.png',\n",
       " '../data/obstacle/u_norm_174.png',\n",
       " '../data/obstacle/u_norm_189.png',\n",
       " '../data/obstacle/u_norm_176.png',\n",
       " '../data/obstacle/u_norm_177.png',\n",
       " '../data/obstacle/u_norm_188.png',\n",
       " '../data/obstacle/u_norm_173.png']"
      ]
     },
     "execution_count": 8,
     "metadata": {},
     "output_type": "execute_result"
    }
   ],
   "source": [
    "imgs = glob.glob(\"../data/obstacle/*\")\n",
    "imgs"
   ]
  },
  {
   "cell_type": "code",
   "execution_count": 9,
   "id": "a6cc9791",
   "metadata": {},
   "outputs": [
    {
     "data": {
      "text/plain": [
       "['../data/obstacle/u_norm_173.png',\n",
       " '../data/obstacle/u_norm_174.png',\n",
       " '../data/obstacle/u_norm_175.png',\n",
       " '../data/obstacle/u_norm_176.png',\n",
       " '../data/obstacle/u_norm_177.png',\n",
       " '../data/obstacle/u_norm_178.png',\n",
       " '../data/obstacle/u_norm_179.png',\n",
       " '../data/obstacle/u_norm_180.png',\n",
       " '../data/obstacle/u_norm_181.png',\n",
       " '../data/obstacle/u_norm_182.png',\n",
       " '../data/obstacle/u_norm_183.png',\n",
       " '../data/obstacle/u_norm_184.png',\n",
       " '../data/obstacle/u_norm_185.png',\n",
       " '../data/obstacle/u_norm_186.png',\n",
       " '../data/obstacle/u_norm_187.png',\n",
       " '../data/obstacle/u_norm_188.png',\n",
       " '../data/obstacle/u_norm_189.png',\n",
       " '../data/obstacle/u_norm_190.png',\n",
       " '../data/obstacle/u_norm_191.png',\n",
       " '../data/obstacle/u_norm_192.png']"
      ]
     },
     "execution_count": 9,
     "metadata": {},
     "output_type": "execute_result"
    }
   ],
   "source": [
    "imgs.sort()\n",
    "imgs"
   ]
  },
  {
   "cell_type": "code",
   "execution_count": null,
   "id": "dbe1e6dd",
   "metadata": {},
   "outputs": [],
   "source": []
  }
 ],
 "metadata": {
  "kernelspec": {
   "display_name": "Python 3 (ipykernel)",
   "language": "python",
   "name": "python3"
  },
  "language_info": {
   "codemirror_mode": {
    "name": "ipython",
    "version": 3
   },
   "file_extension": ".py",
   "mimetype": "text/x-python",
   "name": "python",
   "nbconvert_exporter": "python",
   "pygments_lexer": "ipython3",
   "version": "3.9.10"
  }
 },
 "nbformat": 4,
 "nbformat_minor": 5
}
