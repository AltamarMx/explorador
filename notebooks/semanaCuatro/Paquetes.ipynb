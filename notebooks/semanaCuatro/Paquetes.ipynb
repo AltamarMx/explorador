{
 "cells": [
  {
   "cell_type": "markdown",
   "id": "645ff6c2",
   "metadata": {},
   "source": [
    "# Recomendaciones de paquetes a explorar"
   ]
  },
  {
   "cell_type": "markdown",
   "id": "12bcb4f8",
   "metadata": {},
   "source": [
    "1. [Scipy](https://scipy.org/)\n",
    "1. [Bokeh](https://bokeh.org/)\n",
    "1. [Scikit-learn](https://scikit-learn.org/stable/)\n",
    "1. [TensorFlow](https://www.tensorflow.org/)\n",
    "1. [PyTorch](https://pytorch.org/)\n",
    "1. [Nbdev](https://nbdev.fast.ai/)\n",
    "1. [Calplot](https://pypi.org/project/calplot/)\n",
    "1. [WindRose](https://pypi.org/project/windrose/)\n",
    "1. [Visual Studio Code](https://code.visualstudio.com/)\n",
    "1. [JupyterLab](https://jupyter.org/)\n",
    "1. [Colab](https://colab.research.google.com/?utm_source=scs-index)"
   ]
  },
  {
   "cell_type": "code",
   "execution_count": null,
   "id": "ecbdb4d7",
   "metadata": {},
   "outputs": [],
   "source": []
  }
 ],
 "metadata": {
  "kernelspec": {
   "display_name": "Python 3 (ipykernel)",
   "language": "python",
   "name": "python3"
  },
  "language_info": {
   "codemirror_mode": {
    "name": "ipython",
    "version": 3
   },
   "file_extension": ".py",
   "mimetype": "text/x-python",
   "name": "python",
   "nbconvert_exporter": "python",
   "pygments_lexer": "ipython3",
   "version": "3.10.12"
  }
 },
 "nbformat": 4,
 "nbformat_minor": 5
}
